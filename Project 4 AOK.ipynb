{
 "cells": [
  {
   "cell_type": "markdown",
   "metadata": {},
   "source": [
    "# MENGUJI DATA SURVEY"
   ]
  },
  {
   "cell_type": "markdown",
   "metadata": {},
   "source": [
    "## 1.) Uji data dengan test Alpha Cronbach"
   ]
  },
  {
   "cell_type": "code",
   "execution_count": 3,
   "metadata": {},
   "outputs": [],
   "source": [
    "mydata<-read.csv('DATA_AOK3.csv')"
   ]
  },
  {
   "cell_type": "code",
   "execution_count": 4,
   "metadata": {},
   "outputs": [
    {
     "data": {
      "text/html": [
       "<table>\n",
       "<thead><tr><th scope=col>RESPONDEN.</th><th scope=col>Q1</th><th scope=col>Q2</th><th scope=col>Q3</th><th scope=col>Q4</th><th scope=col>Q5</th><th scope=col>Q6</th><th scope=col>Q7</th><th scope=col>Q8</th><th scope=col>Q9</th></tr></thead>\n",
       "<tbody>\n",
       "\t<tr><td>Responden 1</td><td>4          </td><td>4          </td><td>3          </td><td>4          </td><td>3          </td><td>3          </td><td>3          </td><td>5          </td><td>4          </td></tr>\n",
       "\t<tr><td>Responden 2</td><td>5          </td><td>4          </td><td>5          </td><td>4          </td><td>4          </td><td>5          </td><td>5          </td><td>5          </td><td>4          </td></tr>\n",
       "\t<tr><td>Responden 3</td><td>4          </td><td>3          </td><td>4          </td><td>4          </td><td>3          </td><td>5          </td><td>2          </td><td>4          </td><td>4          </td></tr>\n",
       "\t<tr><td>Responden 4</td><td>4          </td><td>4          </td><td>4          </td><td>4          </td><td>4          </td><td>3          </td><td>3          </td><td>5          </td><td>4          </td></tr>\n",
       "\t<tr><td>Responden 5</td><td>5          </td><td>4          </td><td>4          </td><td>4          </td><td>4          </td><td>3          </td><td>3          </td><td>4          </td><td>3          </td></tr>\n",
       "\t<tr><td>Responden 6</td><td>4          </td><td>3          </td><td>4          </td><td>4          </td><td>4          </td><td>4          </td><td>3          </td><td>4          </td><td>4          </td></tr>\n",
       "</tbody>\n",
       "</table>\n"
      ],
      "text/latex": [
       "\\begin{tabular}{r|llllllllll}\n",
       " RESPONDEN. & Q1 & Q2 & Q3 & Q4 & Q5 & Q6 & Q7 & Q8 & Q9\\\\\n",
       "\\hline\n",
       "\t Responden 1 & 4           & 4           & 3           & 4           & 3           & 3           & 3           & 5           & 4          \\\\\n",
       "\t Responden 2 & 5           & 4           & 5           & 4           & 4           & 5           & 5           & 5           & 4          \\\\\n",
       "\t Responden 3 & 4           & 3           & 4           & 4           & 3           & 5           & 2           & 4           & 4          \\\\\n",
       "\t Responden 4 & 4           & 4           & 4           & 4           & 4           & 3           & 3           & 5           & 4          \\\\\n",
       "\t Responden 5 & 5           & 4           & 4           & 4           & 4           & 3           & 3           & 4           & 3          \\\\\n",
       "\t Responden 6 & 4           & 3           & 4           & 4           & 4           & 4           & 3           & 4           & 4          \\\\\n",
       "\\end{tabular}\n"
      ],
      "text/markdown": [
       "\n",
       "| RESPONDEN. | Q1 | Q2 | Q3 | Q4 | Q5 | Q6 | Q7 | Q8 | Q9 |\n",
       "|---|---|---|---|---|---|---|---|---|---|\n",
       "| Responden 1 | 4           | 4           | 3           | 4           | 3           | 3           | 3           | 5           | 4           |\n",
       "| Responden 2 | 5           | 4           | 5           | 4           | 4           | 5           | 5           | 5           | 4           |\n",
       "| Responden 3 | 4           | 3           | 4           | 4           | 3           | 5           | 2           | 4           | 4           |\n",
       "| Responden 4 | 4           | 4           | 4           | 4           | 4           | 3           | 3           | 5           | 4           |\n",
       "| Responden 5 | 5           | 4           | 4           | 4           | 4           | 3           | 3           | 4           | 3           |\n",
       "| Responden 6 | 4           | 3           | 4           | 4           | 4           | 4           | 3           | 4           | 4           |\n",
       "\n"
      ],
      "text/plain": [
       "  RESPONDEN.  Q1 Q2 Q3 Q4 Q5 Q6 Q7 Q8 Q9\n",
       "1 Responden 1 4  4  3  4  3  3  3  5  4 \n",
       "2 Responden 2 5  4  5  4  4  5  5  5  4 \n",
       "3 Responden 3 4  3  4  4  3  5  2  4  4 \n",
       "4 Responden 4 4  4  4  4  4  3  3  5  4 \n",
       "5 Responden 5 5  4  4  4  4  3  3  4  3 \n",
       "6 Responden 6 4  3  4  4  4  4  3  4  4 "
      ]
     },
     "metadata": {},
     "output_type": "display_data"
    }
   ],
   "source": [
    "head(mydata)"
   ]
  },
  {
   "cell_type": "code",
   "execution_count": 8,
   "metadata": {},
   "outputs": [],
   "source": [
    "library(\"psych\")"
   ]
  },
  {
   "cell_type": "code",
   "execution_count": 9,
   "metadata": {},
   "outputs": [
    {
     "name": "stderr",
     "output_type": "stream",
     "text": [
      "Warning message in var(if (is.vector(x) || is.factor(x)) x else as.double(x), na.rm = na.rm):\n",
      "\"NAs introduced by coercion\"Warning message in alpha(mydata):\n",
      "\"Item = RESPONDEN. had no variance and was deleted\""
     ]
    },
    {
     "data": {
      "text/plain": [
       "\n",
       "Reliability analysis   \n",
       "Call: alpha(x = mydata)\n",
       "\n",
       "  raw_alpha std.alpha G6(smc) average_r  S/N   ase mean   sd median_r\n",
       "      0.48      0.49    0.48     0.096 0.96 0.034  3.7 0.36     0.08\n",
       "\n",
       " lower alpha upper     95% confidence boundaries\n",
       "0.42 0.48 0.55 \n",
       "\n",
       " Reliability if an item is dropped:\n",
       "   raw_alpha std.alpha G6(smc) average_r  S/N alpha se  var.r med.r\n",
       "Q1      0.44      0.44    0.43     0.091 0.80    0.037 0.0057 0.080\n",
       "Q2      0.47      0.47    0.46     0.100 0.89    0.036 0.0062 0.075\n",
       "Q3      0.43      0.43    0.42     0.087 0.77    0.038 0.0050 0.072\n",
       "Q4      0.46      0.47    0.45     0.100 0.88    0.036 0.0050 0.083\n",
       "Q5      0.41      0.42    0.40     0.082 0.72    0.039 0.0041 0.072\n",
       "Q6      0.48      0.48    0.46     0.103 0.92    0.035 0.0057 0.088\n",
       "Q7      0.45      0.46    0.45     0.097 0.86    0.037 0.0063 0.077\n",
       "Q8      0.50      0.51    0.50     0.116 1.05    0.034 0.0050 0.094\n",
       "Q9      0.44      0.44    0.43     0.090 0.79    0.038 0.0063 0.071\n",
       "\n",
       " Item statistics \n",
       "     n raw.r std.r r.cor r.drop mean   sd\n",
       "Q1 501  0.44  0.48 0.368  0.253  4.0 0.65\n",
       "Q2 501  0.46  0.41 0.255  0.182  3.6 0.96\n",
       "Q3 501  0.49  0.51 0.409  0.276  3.7 0.80\n",
       "Q4 501  0.42  0.42 0.278  0.182  3.8 0.82\n",
       "Q5 501  0.53  0.54 0.476  0.322  3.5 0.80\n",
       "Q6 501  0.41  0.40 0.232  0.154  3.5 0.87\n",
       "Q7 501  0.47  0.44 0.299  0.215  2.7 0.91\n",
       "Q8 501  0.28  0.30 0.082  0.055  4.4 0.73\n",
       "Q9 501  0.48  0.49 0.369  0.256  3.7 0.81\n",
       "\n",
       "Non missing response frequency for each item\n",
       "      1    2    3    4    5 miss\n",
       "Q1 0.00 0.02 0.15 0.63 0.20    0\n",
       "Q2 0.03 0.09 0.27 0.45 0.16    0\n",
       "Q3 0.01 0.05 0.35 0.46 0.13    0\n",
       "Q4 0.01 0.07 0.20 0.55 0.17    0\n",
       "Q5 0.00 0.10 0.35 0.46 0.08    0\n",
       "Q6 0.01 0.14 0.26 0.50 0.09    0\n",
       "Q7 0.06 0.36 0.39 0.16 0.03    0\n",
       "Q8 0.00 0.01 0.08 0.39 0.51    0\n",
       "Q9 0.00 0.07 0.30 0.47 0.16    0"
      ]
     },
     "metadata": {},
     "output_type": "display_data"
    },
    {
     "name": "stdout",
     "output_type": "stream",
     "text": [
      "[1] \"Q1  = Apakah hardisk tipe ssd memiliki performa kerja lebih baik dari hdd dalam hal kecepatan mengakses data\"\n",
      "[1] \"Q2  = Apakah pengguna setuju bahwa dual core (multi core )pada prosessor lebih cenderung mempercepat kinerja system computer dibandingkan quad core\"\n",
      "[1] \"Q3  = Apakah dengan menggunakan VGA NVIDIA GeForce saat akan melakukan aktivitas gaming tidak ada lag\"\n",
      "[1] \"Q4  = Agar dapat support dengan aplikasi yang bersifat multi core harus menggunakan memori yang besar\"\n",
      "[1] \"Q5  = Saat melakukan aktivitas multitasking pada komputer dengan menggunakan processor multi core tidak akan menjadi masalah\"\n",
      "[1] \"Q6  = Apakah pengguna bisa membedakan antara hardware yang masih baru dengan yang sudah second (bekas) \"\n",
      "[1] \"Q7  = Menurut pengalaman pengguna, Apakah tempat service komputer dapat menjamin tidak adanya penukaran hardware computer dengan yang bekas\"\n",
      "[1] \"Q8  = Apakah dengan media penyimpanan yang lebih besar pengguna dapat lega untuk menyimpanan data\"\n",
      "[1] \"Q9  = Pengguna dapat lebih meminimalkan penggunaan listrik jika menggunakan Monitor LCD dari pada monitor CRT \"\n"
     ]
    }
   ],
   "source": [
    "alpha(mydata)\n",
    "print('Q1  = Apakah hardisk tipe ssd memiliki performa kerja lebih baik dari hdd dalam hal kecepatan mengakses data')\n",
    "print('Q2  = Apakah pengguna setuju bahwa dual core (multi core )pada prosessor lebih cenderung mempercepat kinerja system computer dibandingkan quad core')\n",
    "print('Q3  = Apakah dengan menggunakan VGA NVIDIA GeForce saat akan melakukan aktivitas gaming tidak ada lag')\n",
    "print('Q4  = Agar dapat support dengan aplikasi yang bersifat multi core harus menggunakan memori yang besar')\n",
    "print('Q5  = Saat melakukan aktivitas multitasking pada komputer dengan menggunakan processor multi core tidak akan menjadi masalah')\n",
    "print('Q6  = Apakah pengguna bisa membedakan antara hardware yang masih baru dengan yang sudah second (bekas) ')\n",
    "print('Q7  = Menurut pengalaman pengguna, Apakah tempat service komputer dapat menjamin tidak adanya penukaran hardware computer dengan yang bekas')\n",
    "print('Q8  = Apakah dengan media penyimpanan yang lebih besar pengguna dapat lega untuk menyimpanan data')\n",
    "print('Q9  = Pengguna dapat lebih meminimalkan penggunaan listrik jika menggunakan Monitor LCD dari pada monitor CRT ')"
   ]
  },
  {
   "cell_type": "markdown",
   "metadata": {},
   "source": [
    "## 2.) Uji data dengan T-test"
   ]
  },
  {
   "cell_type": "code",
   "execution_count": 10,
   "metadata": {},
   "outputs": [],
   "source": [
    "mydata<-read.csv('DATA_AOK3.csv')"
   ]
  },
  {
   "cell_type": "code",
   "execution_count": 11,
   "metadata": {},
   "outputs": [],
   "source": [
    "attach(mydata)"
   ]
  },
  {
   "cell_type": "code",
   "execution_count": 12,
   "metadata": {},
   "outputs": [
    {
     "data": {
      "text/html": [
       "<ol class=list-inline>\n",
       "\t<li>'RESPONDEN.'</li>\n",
       "\t<li>'Q1'</li>\n",
       "\t<li>'Q2'</li>\n",
       "\t<li>'Q3'</li>\n",
       "\t<li>'Q4'</li>\n",
       "\t<li>'Q5'</li>\n",
       "\t<li>'Q6'</li>\n",
       "\t<li>'Q7'</li>\n",
       "\t<li>'Q8'</li>\n",
       "\t<li>'Q9'</li>\n",
       "</ol>\n"
      ],
      "text/latex": [
       "\\begin{enumerate*}\n",
       "\\item 'RESPONDEN.'\n",
       "\\item 'Q1'\n",
       "\\item 'Q2'\n",
       "\\item 'Q3'\n",
       "\\item 'Q4'\n",
       "\\item 'Q5'\n",
       "\\item 'Q6'\n",
       "\\item 'Q7'\n",
       "\\item 'Q8'\n",
       "\\item 'Q9'\n",
       "\\end{enumerate*}\n"
      ],
      "text/markdown": [
       "1. 'RESPONDEN.'\n",
       "2. 'Q1'\n",
       "3. 'Q2'\n",
       "4. 'Q3'\n",
       "5. 'Q4'\n",
       "6. 'Q5'\n",
       "7. 'Q6'\n",
       "8. 'Q7'\n",
       "9. 'Q8'\n",
       "10. 'Q9'\n",
       "\n",
       "\n"
      ],
      "text/plain": [
       " [1] \"RESPONDEN.\" \"Q1\"         \"Q2\"         \"Q3\"         \"Q4\"        \n",
       " [6] \"Q5\"         \"Q6\"         \"Q7\"         \"Q8\"         \"Q9\"        "
      ]
     },
     "metadata": {},
     "output_type": "display_data"
    }
   ],
   "source": [
    "names(mydata)"
   ]
  },
  {
   "cell_type": "code",
   "execution_count": 13,
   "metadata": {},
   "outputs": [
    {
     "data": {
      "text/html": [
       "<ol class=list-inline>\n",
       "\t<li>501</li>\n",
       "\t<li>10</li>\n",
       "</ol>\n"
      ],
      "text/latex": [
       "\\begin{enumerate*}\n",
       "\\item 501\n",
       "\\item 10\n",
       "\\end{enumerate*}\n"
      ],
      "text/markdown": [
       "1. 501\n",
       "2. 10\n",
       "\n",
       "\n"
      ],
      "text/plain": [
       "[1] 501  10"
      ]
     },
     "metadata": {},
     "output_type": "display_data"
    }
   ],
   "source": [
    "dim(mydata)"
   ]
  },
  {
   "cell_type": "code",
   "execution_count": 14,
   "metadata": {},
   "outputs": [
    {
     "data": {
      "text/plain": [
       "\n",
       "\tPaired t-test\n",
       "\n",
       "data:  Q1 and Q2\n",
       "t = 7.8822, df = 500, p-value = 2.029e-14\n",
       "alternative hypothesis: true difference in means is not equal to 0\n",
       "99 percent confidence interval:\n",
       " 0.2655641 0.5248551\n",
       "sample estimates:\n",
       "mean of the differences \n",
       "              0.3952096 \n"
      ]
     },
     "metadata": {},
     "output_type": "display_data"
    }
   ],
   "source": [
    "t.test(Q1, Q2, mu=0, alt=\"two.sided\", paired=T, conf.level=0.99)"
   ]
  },
  {
   "cell_type": "code",
   "execution_count": 15,
   "metadata": {},
   "outputs": [
    {
     "data": {
      "text/plain": [
       "\n",
       "\tPaired t-test\n",
       "\n",
       "data:  Q1 and Q3\n",
       "t = 8.5475, df = 500, p-value < 2.2e-16\n",
       "alternative hypothesis: true difference in means is not equal to 0\n",
       "99 percent confidence interval:\n",
       " 0.2422429 0.4523679\n",
       "sample estimates:\n",
       "mean of the differences \n",
       "              0.3473054 \n"
      ]
     },
     "metadata": {},
     "output_type": "display_data"
    }
   ],
   "source": [
    "t.test(Q1, Q3, mu=0, alt=\"two.sided\", paired=T, conf.level=0.99)"
   ]
  },
  {
   "cell_type": "code",
   "execution_count": 16,
   "metadata": {},
   "outputs": [
    {
     "data": {
      "text/plain": [
       "\n",
       "\tPaired t-test\n",
       "\n",
       "data:  Q1 and Q4\n",
       "t = 4.5631, df = 500, p-value = 6.349e-06\n",
       "alternative hypothesis: true difference in means is not equal to 0\n",
       "99 percent confidence interval:\n",
       " 0.08995673 0.32521293\n",
       "sample estimates:\n",
       "mean of the differences \n",
       "              0.2075848 \n"
      ]
     },
     "metadata": {},
     "output_type": "display_data"
    }
   ],
   "source": [
    "t.test(Q1, Q4, mu=0, alt=\"two.sided\", paired=T, conf.level=0.99)"
   ]
  },
  {
   "cell_type": "code",
   "execution_count": 17,
   "metadata": {},
   "outputs": [
    {
     "data": {
      "text/plain": [
       "\n",
       "\tPaired t-test\n",
       "\n",
       "data:  Q1 and Q5\n",
       "t = 11.632, df = 500, p-value < 2.2e-16\n",
       "alternative hypothesis: true difference in means is not equal to 0\n",
       "99 percent confidence interval:\n",
       " 0.3787609 0.5952910\n",
       "sample estimates:\n",
       "mean of the differences \n",
       "              0.4870259 \n"
      ]
     },
     "metadata": {},
     "output_type": "display_data"
    }
   ],
   "source": [
    "t.test(Q1, Q5, mu=0, alt=\"two.sided\", paired=T, conf.level=0.99)"
   ]
  },
  {
   "cell_type": "code",
   "execution_count": 18,
   "metadata": {},
   "outputs": [
    {
     "data": {
      "text/plain": [
       "\n",
       "\tPaired t-test\n",
       "\n",
       "data:  Q1 and Q6\n",
       "t = 10.307, df = 500, p-value < 2.2e-16\n",
       "alternative hypothesis: true difference in means is not equal to 0\n",
       "99 percent confidence interval:\n",
       " 0.3513930 0.5867307\n",
       "sample estimates:\n",
       "mean of the differences \n",
       "              0.4690619 \n"
      ]
     },
     "metadata": {},
     "output_type": "display_data"
    }
   ],
   "source": [
    "t.test(Q1, Q6, mu=0, alt=\"two.sided\", paired=T, conf.level=0.99)"
   ]
  },
  {
   "cell_type": "code",
   "execution_count": 19,
   "metadata": {},
   "outputs": [
    {
     "data": {
      "text/plain": [
       "\n",
       "\tPaired t-test\n",
       "\n",
       "data:  Q1 and Q7\n",
       "t = 25.99, df = 500, p-value < 2.2e-16\n",
       "alternative hypothesis: true difference in means is not equal to 0\n",
       "99 percent confidence interval:\n",
       " 1.134178 1.384784\n",
       "sample estimates:\n",
       "mean of the differences \n",
       "               1.259481 \n"
      ]
     },
     "metadata": {},
     "output_type": "display_data"
    }
   ],
   "source": [
    "t.test(Q1, Q7, mu=0, alt=\"two.sided\", paired=T, conf.level=0.99)"
   ]
  },
  {
   "cell_type": "code",
   "execution_count": 20,
   "metadata": {},
   "outputs": [
    {
     "data": {
      "text/plain": [
       "\n",
       "\tPaired t-test\n",
       "\n",
       "data:  Q1 and Q8\n",
       "t = -8.9124, df = 500, p-value < 2.2e-16\n",
       "alternative hypothesis: true difference in means is not equal to 0\n",
       "99 percent confidence interval:\n",
       " -0.4995692 -0.2748819\n",
       "sample estimates:\n",
       "mean of the differences \n",
       "             -0.3872255 \n"
      ]
     },
     "metadata": {},
     "output_type": "display_data"
    }
   ],
   "source": [
    "t.test(Q1, Q8, mu=0, alt=\"two.sided\", paired=T, conf.level=0.99)"
   ]
  },
  {
   "cell_type": "code",
   "execution_count": 21,
   "metadata": {},
   "outputs": [
    {
     "data": {
      "text/plain": [
       "\n",
       "\tPaired t-test\n",
       "\n",
       "data:  Q1 and Q9\n",
       "t = 6.7758, df = 500, p-value = 3.49e-11\n",
       "alternative hypothesis: true difference in means is not equal to 0\n",
       "99 percent confidence interval:\n",
       " 0.1789756 0.3998667\n",
       "sample estimates:\n",
       "mean of the differences \n",
       "              0.2894212 \n"
      ]
     },
     "metadata": {},
     "output_type": "display_data"
    }
   ],
   "source": [
    "t.test(Q1, Q9, mu=0, alt=\"two.sided\", paired=T, conf.level=0.99)"
   ]
  },
  {
   "cell_type": "code",
   "execution_count": 22,
   "metadata": {},
   "outputs": [
    {
     "data": {
      "text/plain": [
       "\n",
       "\tPaired t-test\n",
       "\n",
       "data:  Q2 and Q3\n",
       "t = -0.91351, df = 500, p-value = 0.3614\n",
       "alternative hypothesis: true difference in means is not equal to 0\n",
       "99 percent confidence interval:\n",
       " -0.18349690  0.08768852\n",
       "sample estimates:\n",
       "mean of the differences \n",
       "            -0.04790419 \n"
      ]
     },
     "metadata": {},
     "output_type": "display_data"
    }
   ],
   "source": [
    "t.test(Q2, Q3, mu=0, alt=\"two.sided\", paired=T, conf.level=0.99)"
   ]
  },
  {
   "cell_type": "code",
   "execution_count": 23,
   "metadata": {},
   "outputs": [
    {
     "data": {
      "text/plain": [
       "\n",
       "\tPaired t-test\n",
       "\n",
       "data:  Q2 and Q4\n",
       "t = -3.4795, df = 500, p-value = 0.0005462\n",
       "alternative hypothesis: true difference in means is not equal to 0\n",
       "99 percent confidence interval:\n",
       " -0.32705209 -0.04819742\n",
       "sample estimates:\n",
       "mean of the differences \n",
       "             -0.1876248 \n"
      ]
     },
     "metadata": {},
     "output_type": "display_data"
    }
   ],
   "source": [
    "t.test(Q2, Q4, mu=0, alt=\"two.sided\", paired=T, conf.level=0.99)"
   ]
  },
  {
   "cell_type": "code",
   "execution_count": 24,
   "metadata": {},
   "outputs": [
    {
     "data": {
      "text/plain": [
       "\n",
       "\tPaired t-test\n",
       "\n",
       "data:  Q2 and Q5\n",
       "t = 1.7447, df = 500, p-value = 0.08166\n",
       "alternative hypothesis: true difference in means is not equal to 0\n",
       "99 percent confidence interval:\n",
       " -0.04426031  0.22789304\n",
       "sample estimates:\n",
       "mean of the differences \n",
       "             0.09181637 \n"
      ]
     },
     "metadata": {},
     "output_type": "display_data"
    }
   ],
   "source": [
    "t.test(Q2, Q5, mu=0, alt=\"two.sided\", paired=T, conf.level=0.99)"
   ]
  },
  {
   "cell_type": "code",
   "execution_count": 25,
   "metadata": {},
   "outputs": [
    {
     "data": {
      "text/plain": [
       "\n",
       "\tPaired t-test\n",
       "\n",
       "data:  Q2 and Q6\n",
       "t = 1.2922, df = 500, p-value = 0.1969\n",
       "alternative hypothesis: true difference in means is not equal to 0\n",
       "99 percent confidence interval:\n",
       " -0.07392971  0.22163430\n",
       "sample estimates:\n",
       "mean of the differences \n",
       "              0.0738523 \n"
      ]
     },
     "metadata": {},
     "output_type": "display_data"
    }
   ],
   "source": [
    "t.test(Q2, Q6, mu=0, alt=\"two.sided\", paired=T, conf.level=0.99)"
   ]
  },
  {
   "cell_type": "code",
   "execution_count": 26,
   "metadata": {},
   "outputs": [
    {
     "data": {
      "text/plain": [
       "\n",
       "\tPaired t-test\n",
       "\n",
       "data:  Q2 and Q7\n",
       "t = 15.829, df = 500, p-value < 2.2e-16\n",
       "alternative hypothesis: true difference in means is not equal to 0\n",
       "99 percent confidence interval:\n",
       " 0.7230933 1.0054496\n",
       "sample estimates:\n",
       "mean of the differences \n",
       "              0.8642715 \n"
      ]
     },
     "metadata": {},
     "output_type": "display_data"
    }
   ],
   "source": [
    "t.test(Q2, Q7, mu=0, alt=\"two.sided\", paired=T, conf.level=0.99)"
   ]
  },
  {
   "cell_type": "code",
   "execution_count": 27,
   "metadata": {},
   "outputs": [
    {
     "data": {
      "text/plain": [
       "\n",
       "\tPaired t-test\n",
       "\n",
       "data:  Q2 and Q8\n",
       "t = -14.306, df = 500, p-value < 2.2e-16\n",
       "alternative hypothesis: true difference in means is not equal to 0\n",
       "99 percent confidence interval:\n",
       " -0.9238508 -0.6410195\n",
       "sample estimates:\n",
       "mean of the differences \n",
       "             -0.7824351 \n"
      ]
     },
     "metadata": {},
     "output_type": "display_data"
    }
   ],
   "source": [
    "t.test(Q2, Q8, mu=0, alt=\"two.sided\", paired=T, conf.level=0.99)"
   ]
  },
  {
   "cell_type": "code",
   "execution_count": 28,
   "metadata": {},
   "outputs": [
    {
     "data": {
      "text/plain": [
       "\n",
       "\tPaired t-test\n",
       "\n",
       "data:  Q2 and Q9\n",
       "t = -1.9992, df = 500, p-value = 0.04612\n",
       "alternative hypothesis: true difference in means is not equal to 0\n",
       "99 percent confidence interval:\n",
       " -0.24261003  0.03103318\n",
       "sample estimates:\n",
       "mean of the differences \n",
       "             -0.1057884 \n"
      ]
     },
     "metadata": {},
     "output_type": "display_data"
    }
   ],
   "source": [
    "t.test(Q2, Q9, mu=0, alt=\"two.sided\", paired=T, conf.level=0.99)"
   ]
  },
  {
   "cell_type": "code",
   "execution_count": 29,
   "metadata": {},
   "outputs": [
    {
     "data": {
      "text/plain": [
       "\n",
       "\tPaired t-test\n",
       "\n",
       "data:  Q3 and Q4\n",
       "t = -2.8639, df = 500, p-value = 0.00436\n",
       "alternative hypothesis: true difference in means is not equal to 0\n",
       "99 percent confidence interval:\n",
       " -0.26586759 -0.01357353\n",
       "sample estimates:\n",
       "mean of the differences \n",
       "             -0.1397206 \n"
      ]
     },
     "metadata": {},
     "output_type": "display_data"
    }
   ],
   "source": [
    "t.test(Q3, Q4, mu=0, alt=\"two.sided\", paired=T, conf.level=0.99)"
   ]
  },
  {
   "cell_type": "code",
   "execution_count": 30,
   "metadata": {},
   "outputs": [
    {
     "data": {
      "text/plain": [
       "\n",
       "\tPaired t-test\n",
       "\n",
       "data:  Q3 and Q5\n",
       "t = 3.1584, df = 500, p-value = 0.001682\n",
       "alternative hypothesis: true difference in means is not equal to 0\n",
       "99 percent confidence interval:\n",
       " 0.02533552 0.25410560\n",
       "sample estimates:\n",
       "mean of the differences \n",
       "              0.1397206 \n"
      ]
     },
     "metadata": {},
     "output_type": "display_data"
    }
   ],
   "source": [
    "t.test(Q3, Q5, mu=0, alt=\"two.sided\", paired=T, conf.level=0.99)"
   ]
  },
  {
   "cell_type": "code",
   "execution_count": 31,
   "metadata": {},
   "outputs": [
    {
     "data": {
      "text/plain": [
       "\n",
       "\tPaired t-test\n",
       "\n",
       "data:  Q3 and Q6\n",
       "t = 2.3621, df = 500, p-value = 0.01855\n",
       "alternative hypothesis: true difference in means is not equal to 0\n",
       "99 percent confidence interval:\n",
       " -0.01152558  0.25503855\n",
       "sample estimates:\n",
       "mean of the differences \n",
       "              0.1217565 \n"
      ]
     },
     "metadata": {},
     "output_type": "display_data"
    }
   ],
   "source": [
    "t.test(Q3, Q6, mu=0, alt=\"two.sided\", paired=T, conf.level=0.99)"
   ]
  },
  {
   "cell_type": "code",
   "execution_count": 32,
   "metadata": {},
   "outputs": [
    {
     "data": {
      "text/plain": [
       "\n",
       "\tPaired t-test\n",
       "\n",
       "data:  Q3 and Q7\n",
       "t = 17.742, df = 500, p-value < 2.2e-16\n",
       "alternative hypothesis: true difference in means is not equal to 0\n",
       "99 percent confidence interval:\n",
       " 0.7792382 1.0451131\n",
       "sample estimates:\n",
       "mean of the differences \n",
       "              0.9121756 \n"
      ]
     },
     "metadata": {},
     "output_type": "display_data"
    }
   ],
   "source": [
    "t.test(Q3, Q7, mu=0, alt=\"two.sided\", paired=T, conf.level=0.99)"
   ]
  },
  {
   "cell_type": "code",
   "execution_count": 33,
   "metadata": {},
   "outputs": [
    {
     "data": {
      "text/plain": [
       "\n",
       "\tPaired t-test\n",
       "\n",
       "data:  Q3 and Q8\n",
       "t = -15.296, df = 500, p-value < 2.2e-16\n",
       "alternative hypothesis: true difference in means is not equal to 0\n",
       "99 percent confidence interval:\n",
       " -0.8587025 -0.6103593\n",
       "sample estimates:\n",
       "mean of the differences \n",
       "             -0.7345309 \n"
      ]
     },
     "metadata": {},
     "output_type": "display_data"
    }
   ],
   "source": [
    "t.test(Q3, Q8, mu=0, alt=\"two.sided\", paired=T, conf.level=0.99)"
   ]
  },
  {
   "cell_type": "code",
   "execution_count": 34,
   "metadata": {},
   "outputs": [
    {
     "data": {
      "text/plain": [
       "\n",
       "\tPaired t-test\n",
       "\n",
       "data:  Q3 and Q9\n",
       "t = -1.2737, df = 500, p-value = 0.2033\n",
       "alternative hypothesis: true difference in means is not equal to 0\n",
       "99 percent confidence interval:\n",
       " -0.17538863  0.05962016\n",
       "sample estimates:\n",
       "mean of the differences \n",
       "            -0.05788423 \n"
      ]
     },
     "metadata": {},
     "output_type": "display_data"
    }
   ],
   "source": [
    "t.test(Q3, Q9, mu=0, alt=\"two.sided\", paired=T, conf.level=0.99)"
   ]
  },
  {
   "cell_type": "code",
   "execution_count": 35,
   "metadata": {},
   "outputs": [
    {
     "data": {
      "text/plain": [
       "\n",
       "\tPaired t-test\n",
       "\n",
       "data:  Q4 and Q5\n",
       "t = 6.4453, df = 500, p-value = 2.72e-10\n",
       "alternative hypothesis: true difference in means is not equal to 0\n",
       "99 percent confidence interval:\n",
       " 0.1673353 0.3915470\n",
       "sample estimates:\n",
       "mean of the differences \n",
       "              0.2794411 \n"
      ]
     },
     "metadata": {},
     "output_type": "display_data"
    }
   ],
   "source": [
    "t.test(Q4, Q5, mu=0, alt=\"two.sided\", paired=T, conf.level=0.99)"
   ]
  },
  {
   "cell_type": "code",
   "execution_count": 36,
   "metadata": {},
   "outputs": [
    {
     "data": {
      "text/plain": [
       "\n",
       "\tPaired t-test\n",
       "\n",
       "data:  Q4 and Q6\n",
       "t = 4.8215, df = 500, p-value = 1.894e-06\n",
       "alternative hypothesis: true difference in means is not equal to 0\n",
       "99 percent confidence interval:\n",
       " 0.1212496 0.4017045\n",
       "sample estimates:\n",
       "mean of the differences \n",
       "               0.261477 \n"
      ]
     },
     "metadata": {},
     "output_type": "display_data"
    }
   ],
   "source": [
    "t.test(Q4, Q6, mu=0, alt=\"two.sided\", paired=T, conf.level=0.99)"
   ]
  },
  {
   "cell_type": "code",
   "execution_count": 37,
   "metadata": {},
   "outputs": [
    {
     "data": {
      "text/plain": [
       "\n",
       "\tPaired t-test\n",
       "\n",
       "data:  Q4 and Q7\n",
       "t = 19.833, df = 500, p-value < 2.2e-16\n",
       "alternative hypothesis: true difference in means is not equal to 0\n",
       "99 percent confidence interval:\n",
       " 0.9147572 1.1890352\n",
       "sample estimates:\n",
       "mean of the differences \n",
       "               1.051896 \n"
      ]
     },
     "metadata": {},
     "output_type": "display_data"
    }
   ],
   "source": [
    "t.test(Q4, Q7, mu=0, alt=\"two.sided\", paired=T, conf.level=0.99)"
   ]
  },
  {
   "cell_type": "code",
   "execution_count": 38,
   "metadata": {},
   "outputs": [
    {
     "data": {
      "text/plain": [
       "\n",
       "\tPaired t-test\n",
       "\n",
       "data:  Q4 and Q8\n",
       "t = -12.353, df = 500, p-value < 2.2e-16\n",
       "alternative hypothesis: true difference in means is not equal to 0\n",
       "99 percent confidence interval:\n",
       " -0.7193098 -0.4703110\n",
       "sample estimates:\n",
       "mean of the differences \n",
       "             -0.5948104 \n"
      ]
     },
     "metadata": {},
     "output_type": "display_data"
    }
   ],
   "source": [
    "t.test(Q4, Q8, mu=0, alt=\"two.sided\", paired=T, conf.level=0.99)"
   ]
  },
  {
   "cell_type": "code",
   "execution_count": 39,
   "metadata": {},
   "outputs": [
    {
     "data": {
      "text/plain": [
       "\n",
       "\tPaired t-test\n",
       "\n",
       "data:  Q4 and Q9\n",
       "t = 1.6323, df = 500, p-value = 0.1032\n",
       "alternative hypothesis: true difference in means is not equal to 0\n",
       "99 percent confidence interval:\n",
       " -0.0477985  0.2114712\n",
       "sample estimates:\n",
       "mean of the differences \n",
       "             0.08183633 \n"
      ]
     },
     "metadata": {},
     "output_type": "display_data"
    }
   ],
   "source": [
    "t.test(Q4, Q9, mu=0, alt=\"two.sided\", paired=T, conf.level=0.99)"
   ]
  },
  {
   "cell_type": "code",
   "execution_count": 40,
   "metadata": {},
   "outputs": [
    {
     "data": {
      "text/plain": [
       "\n",
       "\tPaired t-test\n",
       "\n",
       "data:  Q5 and Q6\n",
       "t = -0.35189, df = 500, p-value = 0.7251\n",
       "alternative hypothesis: true difference in means is not equal to 0\n",
       "99 percent confidence interval:\n",
       " -0.1499649  0.1140368\n",
       "sample estimates:\n",
       "mean of the differences \n",
       "            -0.01796407 \n"
      ]
     },
     "metadata": {},
     "output_type": "display_data"
    }
   ],
   "source": [
    "t.test(Q5, Q6, mu=0, alt=\"two.sided\", paired=T, conf.level=0.99)"
   ]
  },
  {
   "cell_type": "code",
   "execution_count": 41,
   "metadata": {},
   "outputs": [
    {
     "data": {
      "text/plain": [
       "\n",
       "\tPaired t-test\n",
       "\n",
       "data:  Q5 and Q7\n",
       "t = 14.825, df = 500, p-value < 2.2e-16\n",
       "alternative hypothesis: true difference in means is not equal to 0\n",
       "99 percent confidence interval:\n",
       " 0.6377303 0.9071799\n",
       "sample estimates:\n",
       "mean of the differences \n",
       "              0.7724551 \n"
      ]
     },
     "metadata": {},
     "output_type": "display_data"
    }
   ],
   "source": [
    "t.test(Q5, Q7, mu=0, alt=\"two.sided\", paired=T, conf.level=0.99)"
   ]
  },
  {
   "cell_type": "code",
   "execution_count": 42,
   "metadata": {},
   "outputs": [
    {
     "data": {
      "text/plain": [
       "\n",
       "\tPaired t-test\n",
       "\n",
       "data:  Q5 and Q8\n",
       "t = -18.215, df = 500, p-value < 2.2e-16\n",
       "alternative hypothesis: true difference in means is not equal to 0\n",
       "99 percent confidence interval:\n",
       " -0.998357 -0.750146\n",
       "sample estimates:\n",
       "mean of the differences \n",
       "             -0.8742515 \n"
      ]
     },
     "metadata": {},
     "output_type": "display_data"
    }
   ],
   "source": [
    "t.test(Q5, Q8, mu=0, alt=\"two.sided\", paired=T, conf.level=0.99)"
   ]
  },
  {
   "cell_type": "code",
   "execution_count": 43,
   "metadata": {},
   "outputs": [
    {
     "data": {
      "text/plain": [
       "\n",
       "\tPaired t-test\n",
       "\n",
       "data:  Q5 and Q9\n",
       "t = -4.2348, df = 500, p-value = 2.724e-05\n",
       "alternative hypothesis: true difference in means is not equal to 0\n",
       "99 percent confidence interval:\n",
       " -0.31826005 -0.07694953\n",
       "sample estimates:\n",
       "mean of the differences \n",
       "             -0.1976048 \n"
      ]
     },
     "metadata": {},
     "output_type": "display_data"
    }
   ],
   "source": [
    "t.test(Q5, Q9, mu=0, alt=\"two.sided\", paired=T, conf.level=0.99)"
   ]
  },
  {
   "cell_type": "code",
   "execution_count": 44,
   "metadata": {},
   "outputs": [
    {
     "data": {
      "text/plain": [
       "\n",
       "\tPaired t-test\n",
       "\n",
       "data:  Q6 and Q7\n",
       "t = 15.724, df = 500, p-value < 2.2e-16\n",
       "alternative hypothesis: true difference in means is not equal to 0\n",
       "99 percent confidence interval:\n",
       " 0.6604400 0.9203983\n",
       "sample estimates:\n",
       "mean of the differences \n",
       "              0.7904192 \n"
      ]
     },
     "metadata": {},
     "output_type": "display_data"
    }
   ],
   "source": [
    "t.test(Q6, Q7, mu=0, alt=\"two.sided\", paired=T, conf.level=0.99)"
   ]
  },
  {
   "cell_type": "code",
   "execution_count": 45,
   "metadata": {},
   "outputs": [
    {
     "data": {
      "text/plain": [
       "\n",
       "\tPaired t-test\n",
       "\n",
       "data:  Q6 and Q8\n",
       "t = -17.472, df = 500, p-value < 2.2e-16\n",
       "alternative hypothesis: true difference in means is not equal to 0\n",
       "99 percent confidence interval:\n",
       " -0.9830079 -0.7295669\n",
       "sample estimates:\n",
       "mean of the differences \n",
       "             -0.8562874 \n"
      ]
     },
     "metadata": {},
     "output_type": "display_data"
    }
   ],
   "source": [
    "t.test(Q6, Q8, mu=0, alt=\"two.sided\", paired=T, conf.level=0.99)"
   ]
  },
  {
   "cell_type": "code",
   "execution_count": 46,
   "metadata": {},
   "outputs": [
    {
     "data": {
      "text/plain": [
       "\n",
       "\tPaired t-test\n",
       "\n",
       "data:  Q6 and Q9\n",
       "t = -3.527, df = 500, p-value = 0.000459\n",
       "alternative hypothesis: true difference in means is not equal to 0\n",
       "99 percent confidence interval:\n",
       " -0.31133732 -0.04794412\n",
       "sample estimates:\n",
       "mean of the differences \n",
       "             -0.1796407 \n"
      ]
     },
     "metadata": {},
     "output_type": "display_data"
    }
   ],
   "source": [
    "t.test(Q6, Q9, mu=0, alt=\"two.sided\", paired=T, conf.level=0.99)"
   ]
  },
  {
   "cell_type": "code",
   "execution_count": 47,
   "metadata": {},
   "outputs": [
    {
     "data": {
      "text/plain": [
       "\n",
       "\tPaired t-test\n",
       "\n",
       "data:  Q7 and Q8\n",
       "t = -31.735, df = 500, p-value < 2.2e-16\n",
       "alternative hypothesis: true difference in means is not equal to 0\n",
       "99 percent confidence interval:\n",
       " -1.780876 -1.512537\n",
       "sample estimates:\n",
       "mean of the differences \n",
       "              -1.646707 \n"
      ]
     },
     "metadata": {},
     "output_type": "display_data"
    }
   ],
   "source": [
    "t.test(Q7, Q8, mu=0, alt=\"two.sided\", paired=T, conf.level=0.99)"
   ]
  },
  {
   "cell_type": "code",
   "execution_count": 48,
   "metadata": {},
   "outputs": [
    {
     "data": {
      "text/plain": [
       "\n",
       "\tPaired t-test\n",
       "\n",
       "data:  Q7 and Q9\n",
       "t = -18.584, df = 500, p-value < 2.2e-16\n",
       "alternative hypothesis: true difference in means is not equal to 0\n",
       "99 percent confidence interval:\n",
       " -1.1050312 -0.8350886\n",
       "sample estimates:\n",
       "mean of the differences \n",
       "             -0.9700599 \n"
      ]
     },
     "metadata": {},
     "output_type": "display_data"
    }
   ],
   "source": [
    "t.test(Q7, Q9, mu=0, alt=\"two.sided\", paired=T, conf.level=0.99)"
   ]
  },
  {
   "cell_type": "code",
   "execution_count": 49,
   "metadata": {},
   "outputs": [
    {
     "data": {
      "text/plain": [
       "\n",
       "\tPaired t-test\n",
       "\n",
       "data:  Q8 and Q9\n",
       "t = 14.367, df = 500, p-value < 2.2e-16\n",
       "alternative hypothesis: true difference in means is not equal to 0\n",
       "99 percent confidence interval:\n",
       " 0.5548707 0.7984227\n",
       "sample estimates:\n",
       "mean of the differences \n",
       "              0.6766467 \n"
      ]
     },
     "metadata": {},
     "output_type": "display_data"
    }
   ],
   "source": [
    "t.test(Q8, Q9, mu=0, alt=\"two.sided\", paired=T, conf.level=0.99)"
   ]
  },
  {
   "cell_type": "markdown",
   "metadata": {},
   "source": [
    "## 3.) Uji data dengan Principal Component Analysis"
   ]
  },
  {
   "cell_type": "code",
   "execution_count": null,
   "metadata": {},
   "outputs": [],
   "source": [
    "mydata<-read.csv('DATA_AOK3.csv')"
   ]
  },
  {
   "cell_type": "code",
   "execution_count": 50,
   "metadata": {},
   "outputs": [
    {
     "data": {
      "text/html": [
       "<table>\n",
       "<thead><tr><th scope=col>RESPONDEN.</th><th scope=col>Q1</th><th scope=col>Q2</th><th scope=col>Q3</th><th scope=col>Q4</th><th scope=col>Q5</th><th scope=col>Q6</th><th scope=col>Q7</th><th scope=col>Q8</th><th scope=col>Q9</th></tr></thead>\n",
       "<tbody>\n",
       "\t<tr><td>Responden 1 </td><td>4           </td><td>4           </td><td>3           </td><td>4           </td><td>3           </td><td>3           </td><td>3           </td><td>5           </td><td>4           </td></tr>\n",
       "\t<tr><td>Responden 2 </td><td>5           </td><td>4           </td><td>5           </td><td>4           </td><td>4           </td><td>5           </td><td>5           </td><td>5           </td><td>4           </td></tr>\n",
       "\t<tr><td>Responden 3 </td><td>4           </td><td>3           </td><td>4           </td><td>4           </td><td>3           </td><td>5           </td><td>2           </td><td>4           </td><td>4           </td></tr>\n",
       "\t<tr><td>Responden 4 </td><td>4           </td><td>4           </td><td>4           </td><td>4           </td><td>4           </td><td>3           </td><td>3           </td><td>5           </td><td>4           </td></tr>\n",
       "\t<tr><td>Responden 5 </td><td>5           </td><td>4           </td><td>4           </td><td>4           </td><td>4           </td><td>3           </td><td>3           </td><td>4           </td><td>3           </td></tr>\n",
       "\t<tr><td>Responden 6 </td><td>4           </td><td>3           </td><td>4           </td><td>4           </td><td>4           </td><td>4           </td><td>3           </td><td>4           </td><td>4           </td></tr>\n",
       "\t<tr><td>Responden 7 </td><td>3           </td><td>5           </td><td>4           </td><td>4           </td><td>3           </td><td>4           </td><td>3           </td><td>3           </td><td>3           </td></tr>\n",
       "\t<tr><td>Responden 8 </td><td>4           </td><td>4           </td><td>4           </td><td>4           </td><td>4           </td><td>5           </td><td>2           </td><td>5           </td><td>4           </td></tr>\n",
       "\t<tr><td>Responden 9 </td><td>4           </td><td>5           </td><td>4           </td><td>4           </td><td>4           </td><td>4           </td><td>4           </td><td>4           </td><td>5           </td></tr>\n",
       "\t<tr><td>Responden 10</td><td>5           </td><td>2           </td><td>3           </td><td>4           </td><td>4           </td><td>3           </td><td>3           </td><td>4           </td><td>3           </td></tr>\n",
       "\t<tr><td>Responden 11</td><td>3           </td><td>4           </td><td>3           </td><td>3           </td><td>3           </td><td>4           </td><td>4           </td><td>4           </td><td>3           </td></tr>\n",
       "\t<tr><td>Responden 12</td><td>5           </td><td>4           </td><td>3           </td><td>5           </td><td>5           </td><td>4           </td><td>2           </td><td>5           </td><td>3           </td></tr>\n",
       "\t<tr><td>Responden 13</td><td>4           </td><td>4           </td><td>4           </td><td>4           </td><td>4           </td><td>4           </td><td>2           </td><td>4           </td><td>4           </td></tr>\n",
       "\t<tr><td>Responden 14</td><td>4           </td><td>4           </td><td>4           </td><td>4           </td><td>4           </td><td>4           </td><td>2           </td><td>4           </td><td>4           </td></tr>\n",
       "\t<tr><td>Responden 15</td><td>4           </td><td>2           </td><td>3           </td><td>4           </td><td>4           </td><td>2           </td><td>2           </td><td>4           </td><td>5           </td></tr>\n",
       "\t<tr><td>Responden 16</td><td>4           </td><td>3           </td><td>3           </td><td>5           </td><td>4           </td><td>4           </td><td>3           </td><td>4           </td><td>2           </td></tr>\n",
       "\t<tr><td>Responden 17</td><td>5           </td><td>2           </td><td>4           </td><td>4           </td><td>4           </td><td>4           </td><td>2           </td><td>5           </td><td>4           </td></tr>\n",
       "\t<tr><td>Responden 18</td><td>3           </td><td>4           </td><td>3           </td><td>4           </td><td>4           </td><td>3           </td><td>4           </td><td>5           </td><td>4           </td></tr>\n",
       "\t<tr><td>Responden 19</td><td>4           </td><td>4           </td><td>4           </td><td>4           </td><td>4           </td><td>2           </td><td>2           </td><td>4           </td><td>4           </td></tr>\n",
       "\t<tr><td>Responden 20</td><td>4           </td><td>5           </td><td>4           </td><td>4           </td><td>3           </td><td>2           </td><td>2           </td><td>4           </td><td>3           </td></tr>\n",
       "\t<tr><td>Responden 21</td><td>2           </td><td>4           </td><td>4           </td><td>4           </td><td>3           </td><td>3           </td><td>2           </td><td>4           </td><td>4           </td></tr>\n",
       "\t<tr><td>Responden 22</td><td>5           </td><td>4           </td><td>4           </td><td>4           </td><td>4           </td><td>4           </td><td>4           </td><td>5           </td><td>5           </td></tr>\n",
       "\t<tr><td>Responden 23</td><td>4           </td><td>3           </td><td>3           </td><td>4           </td><td>3           </td><td>3           </td><td>3           </td><td>4           </td><td>3           </td></tr>\n",
       "\t<tr><td>Responden 24</td><td>4           </td><td>3           </td><td>3           </td><td>4           </td><td>4           </td><td>3           </td><td>3           </td><td>4           </td><td>4           </td></tr>\n",
       "\t<tr><td>Responden 25</td><td>4           </td><td>4           </td><td>4           </td><td>4           </td><td>4           </td><td>3           </td><td>1           </td><td>4           </td><td>4           </td></tr>\n",
       "\t<tr><td>Responden 26</td><td>3           </td><td>4           </td><td>2           </td><td>4           </td><td>3           </td><td>3           </td><td>3           </td><td>5           </td><td>4           </td></tr>\n",
       "\t<tr><td>Responden 27</td><td>4           </td><td>3           </td><td>5           </td><td>4           </td><td>5           </td><td>3           </td><td>4           </td><td>5           </td><td>5           </td></tr>\n",
       "\t<tr><td>Responden 28</td><td>3           </td><td>4           </td><td>4           </td><td>4           </td><td>3           </td><td>3           </td><td>3           </td><td>5           </td><td>4           </td></tr>\n",
       "\t<tr><td>Responden 29</td><td>4           </td><td>4           </td><td>3           </td><td>5           </td><td>4           </td><td>4           </td><td>2           </td><td>5           </td><td>2           </td></tr>\n",
       "\t<tr><td>Responden 30</td><td>3           </td><td>3           </td><td>3           </td><td>4           </td><td>3           </td><td>4           </td><td>3           </td><td>4           </td><td>4           </td></tr>\n",
       "\t<tr><td>...</td><td>...</td><td>...</td><td>...</td><td>...</td><td>...</td><td>...</td><td>...</td><td>...</td><td>...</td></tr>\n",
       "\t<tr><td>Responden 472</td><td>4            </td><td>4            </td><td>5            </td><td>4            </td><td>4            </td><td>4            </td><td>3            </td><td>4            </td><td>4            </td></tr>\n",
       "\t<tr><td>Responden 473</td><td>4            </td><td>3            </td><td>4            </td><td>4            </td><td>2            </td><td>4            </td><td>3            </td><td>5            </td><td>3            </td></tr>\n",
       "\t<tr><td>Responden 474</td><td>4            </td><td>5            </td><td>3            </td><td>4            </td><td>4            </td><td>5            </td><td>4            </td><td>5            </td><td>4            </td></tr>\n",
       "\t<tr><td>Responden 475</td><td>4            </td><td>2            </td><td>4            </td><td>4            </td><td>4            </td><td>4            </td><td>3            </td><td>5            </td><td>2            </td></tr>\n",
       "\t<tr><td>Responden 476</td><td>4            </td><td>2            </td><td>4            </td><td>4            </td><td>4            </td><td>2            </td><td>2            </td><td>4            </td><td>2            </td></tr>\n",
       "\t<tr><td>Responden 477</td><td>3            </td><td>4            </td><td>3            </td><td>4            </td><td>3            </td><td>2            </td><td>2            </td><td>5            </td><td>4            </td></tr>\n",
       "\t<tr><td>Responden 478</td><td>4            </td><td>4            </td><td>5            </td><td>3            </td><td>4            </td><td>4            </td><td>2            </td><td>5            </td><td>4            </td></tr>\n",
       "\t<tr><td>Responden 479</td><td>4            </td><td>3            </td><td>4            </td><td>5            </td><td>3            </td><td>4            </td><td>4            </td><td>5            </td><td>3            </td></tr>\n",
       "\t<tr><td>Responden 480</td><td>4            </td><td>5            </td><td>3            </td><td>4            </td><td>5            </td><td>4            </td><td>2            </td><td>5            </td><td>3            </td></tr>\n",
       "\t<tr><td>Responden 481</td><td>4            </td><td>5            </td><td>3            </td><td>2            </td><td>5            </td><td>4            </td><td>2            </td><td>4            </td><td>4            </td></tr>\n",
       "\t<tr><td>Responden 482</td><td>4            </td><td>5            </td><td>4            </td><td>2            </td><td>3            </td><td>5            </td><td>3            </td><td>2            </td><td>4            </td></tr>\n",
       "\t<tr><td>Responden 483</td><td>4            </td><td>3            </td><td>4            </td><td>4            </td><td>4            </td><td>4            </td><td>2            </td><td>5            </td><td>2            </td></tr>\n",
       "\t<tr><td>Responden 484</td><td>4            </td><td>3            </td><td>5            </td><td>4            </td><td>2            </td><td>2            </td><td>1            </td><td>4            </td><td>3            </td></tr>\n",
       "\t<tr><td>Responden 485</td><td>4            </td><td>3            </td><td>4            </td><td>2            </td><td>5            </td><td>4            </td><td>3            </td><td>5            </td><td>3            </td></tr>\n",
       "\t<tr><td>Responden 486</td><td>4            </td><td>5            </td><td>4            </td><td>4            </td><td>3            </td><td>3            </td><td>4            </td><td>5            </td><td>3            </td></tr>\n",
       "\t<tr><td>Responden 487</td><td>4            </td><td>3            </td><td>4            </td><td>3            </td><td>2            </td><td>4            </td><td>2            </td><td>5            </td><td>2            </td></tr>\n",
       "\t<tr><td>Responden 488</td><td>4            </td><td>5            </td><td>3            </td><td>4            </td><td>4            </td><td>3            </td><td>3            </td><td>5            </td><td>4            </td></tr>\n",
       "\t<tr><td>Responden 489</td><td>5            </td><td>4            </td><td>2            </td><td>4            </td><td>2            </td><td>4            </td><td>2            </td><td>3            </td><td>4            </td></tr>\n",
       "\t<tr><td>Responden 490</td><td>4            </td><td>5            </td><td>5            </td><td>5            </td><td>4            </td><td>4            </td><td>4            </td><td>5            </td><td>4            </td></tr>\n",
       "\t<tr><td>Responden 491</td><td>4            </td><td>5            </td><td>3            </td><td>4            </td><td>2            </td><td>3            </td><td>3            </td><td>5            </td><td>5            </td></tr>\n",
       "\t<tr><td>Responden 492</td><td>4            </td><td>4            </td><td>2            </td><td>4            </td><td>2            </td><td>4            </td><td>3            </td><td>4            </td><td>5            </td></tr>\n",
       "\t<tr><td>Responden 493</td><td>4            </td><td>3            </td><td>4            </td><td>3            </td><td>4            </td><td>4            </td><td>2            </td><td>5            </td><td>3            </td></tr>\n",
       "\t<tr><td>Responden 494</td><td>2            </td><td>2            </td><td>2            </td><td>2            </td><td>2            </td><td>5            </td><td>2            </td><td>5            </td><td>2            </td></tr>\n",
       "\t<tr><td>Responden 495</td><td>4            </td><td>3            </td><td>4            </td><td>2            </td><td>4            </td><td>2            </td><td>2            </td><td>4            </td><td>4            </td></tr>\n",
       "\t<tr><td>Responden 496</td><td>4            </td><td>4            </td><td>4            </td><td>4            </td><td>4            </td><td>4            </td><td>3            </td><td>4            </td><td>5            </td></tr>\n",
       "\t<tr><td>Responden 497</td><td>4            </td><td>4            </td><td>3            </td><td>4            </td><td>3            </td><td>3            </td><td>2            </td><td>4            </td><td>3            </td></tr>\n",
       "\t<tr><td>Responden 498</td><td>3            </td><td>4            </td><td>2            </td><td>4            </td><td>3            </td><td>4            </td><td>2            </td><td>4            </td><td>3            </td></tr>\n",
       "\t<tr><td>Responden 499</td><td>4            </td><td>4            </td><td>5            </td><td>4            </td><td>2            </td><td>2            </td><td>3            </td><td>4            </td><td>4            </td></tr>\n",
       "\t<tr><td>Responden 500</td><td>4            </td><td>4            </td><td>5            </td><td>3            </td><td>5            </td><td>4            </td><td>3            </td><td>5            </td><td>4            </td></tr>\n",
       "\t<tr><td>Responden 501</td><td>4            </td><td>4            </td><td>4            </td><td>4            </td><td>4            </td><td>4            </td><td>4            </td><td>4            </td><td>4            </td></tr>\n",
       "</tbody>\n",
       "</table>\n"
      ],
      "text/latex": [
       "\\begin{tabular}{r|llllllllll}\n",
       " RESPONDEN. & Q1 & Q2 & Q3 & Q4 & Q5 & Q6 & Q7 & Q8 & Q9\\\\\n",
       "\\hline\n",
       "\t Responden 1  & 4            & 4            & 3            & 4            & 3            & 3            & 3            & 5            & 4           \\\\\n",
       "\t Responden 2  & 5            & 4            & 5            & 4            & 4            & 5            & 5            & 5            & 4           \\\\\n",
       "\t Responden 3  & 4            & 3            & 4            & 4            & 3            & 5            & 2            & 4            & 4           \\\\\n",
       "\t Responden 4  & 4            & 4            & 4            & 4            & 4            & 3            & 3            & 5            & 4           \\\\\n",
       "\t Responden 5  & 5            & 4            & 4            & 4            & 4            & 3            & 3            & 4            & 3           \\\\\n",
       "\t Responden 6  & 4            & 3            & 4            & 4            & 4            & 4            & 3            & 4            & 4           \\\\\n",
       "\t Responden 7  & 3            & 5            & 4            & 4            & 3            & 4            & 3            & 3            & 3           \\\\\n",
       "\t Responden 8  & 4            & 4            & 4            & 4            & 4            & 5            & 2            & 5            & 4           \\\\\n",
       "\t Responden 9  & 4            & 5            & 4            & 4            & 4            & 4            & 4            & 4            & 5           \\\\\n",
       "\t Responden 10 & 5            & 2            & 3            & 4            & 4            & 3            & 3            & 4            & 3           \\\\\n",
       "\t Responden 11 & 3            & 4            & 3            & 3            & 3            & 4            & 4            & 4            & 3           \\\\\n",
       "\t Responden 12 & 5            & 4            & 3            & 5            & 5            & 4            & 2            & 5            & 3           \\\\\n",
       "\t Responden 13 & 4            & 4            & 4            & 4            & 4            & 4            & 2            & 4            & 4           \\\\\n",
       "\t Responden 14 & 4            & 4            & 4            & 4            & 4            & 4            & 2            & 4            & 4           \\\\\n",
       "\t Responden 15 & 4            & 2            & 3            & 4            & 4            & 2            & 2            & 4            & 5           \\\\\n",
       "\t Responden 16 & 4            & 3            & 3            & 5            & 4            & 4            & 3            & 4            & 2           \\\\\n",
       "\t Responden 17 & 5            & 2            & 4            & 4            & 4            & 4            & 2            & 5            & 4           \\\\\n",
       "\t Responden 18 & 3            & 4            & 3            & 4            & 4            & 3            & 4            & 5            & 4           \\\\\n",
       "\t Responden 19 & 4            & 4            & 4            & 4            & 4            & 2            & 2            & 4            & 4           \\\\\n",
       "\t Responden 20 & 4            & 5            & 4            & 4            & 3            & 2            & 2            & 4            & 3           \\\\\n",
       "\t Responden 21 & 2            & 4            & 4            & 4            & 3            & 3            & 2            & 4            & 4           \\\\\n",
       "\t Responden 22 & 5            & 4            & 4            & 4            & 4            & 4            & 4            & 5            & 5           \\\\\n",
       "\t Responden 23 & 4            & 3            & 3            & 4            & 3            & 3            & 3            & 4            & 3           \\\\\n",
       "\t Responden 24 & 4            & 3            & 3            & 4            & 4            & 3            & 3            & 4            & 4           \\\\\n",
       "\t Responden 25 & 4            & 4            & 4            & 4            & 4            & 3            & 1            & 4            & 4           \\\\\n",
       "\t Responden 26 & 3            & 4            & 2            & 4            & 3            & 3            & 3            & 5            & 4           \\\\\n",
       "\t Responden 27 & 4            & 3            & 5            & 4            & 5            & 3            & 4            & 5            & 5           \\\\\n",
       "\t Responden 28 & 3            & 4            & 4            & 4            & 3            & 3            & 3            & 5            & 4           \\\\\n",
       "\t Responden 29 & 4            & 4            & 3            & 5            & 4            & 4            & 2            & 5            & 2           \\\\\n",
       "\t Responden 30 & 3            & 3            & 3            & 4            & 3            & 4            & 3            & 4            & 4           \\\\\n",
       "\t ... & ... & ... & ... & ... & ... & ... & ... & ... & ...\\\\\n",
       "\t Responden 472 & 4             & 4             & 5             & 4             & 4             & 4             & 3             & 4             & 4            \\\\\n",
       "\t Responden 473 & 4             & 3             & 4             & 4             & 2             & 4             & 3             & 5             & 3            \\\\\n",
       "\t Responden 474 & 4             & 5             & 3             & 4             & 4             & 5             & 4             & 5             & 4            \\\\\n",
       "\t Responden 475 & 4             & 2             & 4             & 4             & 4             & 4             & 3             & 5             & 2            \\\\\n",
       "\t Responden 476 & 4             & 2             & 4             & 4             & 4             & 2             & 2             & 4             & 2            \\\\\n",
       "\t Responden 477 & 3             & 4             & 3             & 4             & 3             & 2             & 2             & 5             & 4            \\\\\n",
       "\t Responden 478 & 4             & 4             & 5             & 3             & 4             & 4             & 2             & 5             & 4            \\\\\n",
       "\t Responden 479 & 4             & 3             & 4             & 5             & 3             & 4             & 4             & 5             & 3            \\\\\n",
       "\t Responden 480 & 4             & 5             & 3             & 4             & 5             & 4             & 2             & 5             & 3            \\\\\n",
       "\t Responden 481 & 4             & 5             & 3             & 2             & 5             & 4             & 2             & 4             & 4            \\\\\n",
       "\t Responden 482 & 4             & 5             & 4             & 2             & 3             & 5             & 3             & 2             & 4            \\\\\n",
       "\t Responden 483 & 4             & 3             & 4             & 4             & 4             & 4             & 2             & 5             & 2            \\\\\n",
       "\t Responden 484 & 4             & 3             & 5             & 4             & 2             & 2             & 1             & 4             & 3            \\\\\n",
       "\t Responden 485 & 4             & 3             & 4             & 2             & 5             & 4             & 3             & 5             & 3            \\\\\n",
       "\t Responden 486 & 4             & 5             & 4             & 4             & 3             & 3             & 4             & 5             & 3            \\\\\n",
       "\t Responden 487 & 4             & 3             & 4             & 3             & 2             & 4             & 2             & 5             & 2            \\\\\n",
       "\t Responden 488 & 4             & 5             & 3             & 4             & 4             & 3             & 3             & 5             & 4            \\\\\n",
       "\t Responden 489 & 5             & 4             & 2             & 4             & 2             & 4             & 2             & 3             & 4            \\\\\n",
       "\t Responden 490 & 4             & 5             & 5             & 5             & 4             & 4             & 4             & 5             & 4            \\\\\n",
       "\t Responden 491 & 4             & 5             & 3             & 4             & 2             & 3             & 3             & 5             & 5            \\\\\n",
       "\t Responden 492 & 4             & 4             & 2             & 4             & 2             & 4             & 3             & 4             & 5            \\\\\n",
       "\t Responden 493 & 4             & 3             & 4             & 3             & 4             & 4             & 2             & 5             & 3            \\\\\n",
       "\t Responden 494 & 2             & 2             & 2             & 2             & 2             & 5             & 2             & 5             & 2            \\\\\n",
       "\t Responden 495 & 4             & 3             & 4             & 2             & 4             & 2             & 2             & 4             & 4            \\\\\n",
       "\t Responden 496 & 4             & 4             & 4             & 4             & 4             & 4             & 3             & 4             & 5            \\\\\n",
       "\t Responden 497 & 4             & 4             & 3             & 4             & 3             & 3             & 2             & 4             & 3            \\\\\n",
       "\t Responden 498 & 3             & 4             & 2             & 4             & 3             & 4             & 2             & 4             & 3            \\\\\n",
       "\t Responden 499 & 4             & 4             & 5             & 4             & 2             & 2             & 3             & 4             & 4            \\\\\n",
       "\t Responden 500 & 4             & 4             & 5             & 3             & 5             & 4             & 3             & 5             & 4            \\\\\n",
       "\t Responden 501 & 4             & 4             & 4             & 4             & 4             & 4             & 4             & 4             & 4            \\\\\n",
       "\\end{tabular}\n"
      ],
      "text/markdown": [
       "\n",
       "| RESPONDEN. | Q1 | Q2 | Q3 | Q4 | Q5 | Q6 | Q7 | Q8 | Q9 |\n",
       "|---|---|---|---|---|---|---|---|---|---|\n",
       "| Responden 1  | 4            | 4            | 3            | 4            | 3            | 3            | 3            | 5            | 4            |\n",
       "| Responden 2  | 5            | 4            | 5            | 4            | 4            | 5            | 5            | 5            | 4            |\n",
       "| Responden 3  | 4            | 3            | 4            | 4            | 3            | 5            | 2            | 4            | 4            |\n",
       "| Responden 4  | 4            | 4            | 4            | 4            | 4            | 3            | 3            | 5            | 4            |\n",
       "| Responden 5  | 5            | 4            | 4            | 4            | 4            | 3            | 3            | 4            | 3            |\n",
       "| Responden 6  | 4            | 3            | 4            | 4            | 4            | 4            | 3            | 4            | 4            |\n",
       "| Responden 7  | 3            | 5            | 4            | 4            | 3            | 4            | 3            | 3            | 3            |\n",
       "| Responden 8  | 4            | 4            | 4            | 4            | 4            | 5            | 2            | 5            | 4            |\n",
       "| Responden 9  | 4            | 5            | 4            | 4            | 4            | 4            | 4            | 4            | 5            |\n",
       "| Responden 10 | 5            | 2            | 3            | 4            | 4            | 3            | 3            | 4            | 3            |\n",
       "| Responden 11 | 3            | 4            | 3            | 3            | 3            | 4            | 4            | 4            | 3            |\n",
       "| Responden 12 | 5            | 4            | 3            | 5            | 5            | 4            | 2            | 5            | 3            |\n",
       "| Responden 13 | 4            | 4            | 4            | 4            | 4            | 4            | 2            | 4            | 4            |\n",
       "| Responden 14 | 4            | 4            | 4            | 4            | 4            | 4            | 2            | 4            | 4            |\n",
       "| Responden 15 | 4            | 2            | 3            | 4            | 4            | 2            | 2            | 4            | 5            |\n",
       "| Responden 16 | 4            | 3            | 3            | 5            | 4            | 4            | 3            | 4            | 2            |\n",
       "| Responden 17 | 5            | 2            | 4            | 4            | 4            | 4            | 2            | 5            | 4            |\n",
       "| Responden 18 | 3            | 4            | 3            | 4            | 4            | 3            | 4            | 5            | 4            |\n",
       "| Responden 19 | 4            | 4            | 4            | 4            | 4            | 2            | 2            | 4            | 4            |\n",
       "| Responden 20 | 4            | 5            | 4            | 4            | 3            | 2            | 2            | 4            | 3            |\n",
       "| Responden 21 | 2            | 4            | 4            | 4            | 3            | 3            | 2            | 4            | 4            |\n",
       "| Responden 22 | 5            | 4            | 4            | 4            | 4            | 4            | 4            | 5            | 5            |\n",
       "| Responden 23 | 4            | 3            | 3            | 4            | 3            | 3            | 3            | 4            | 3            |\n",
       "| Responden 24 | 4            | 3            | 3            | 4            | 4            | 3            | 3            | 4            | 4            |\n",
       "| Responden 25 | 4            | 4            | 4            | 4            | 4            | 3            | 1            | 4            | 4            |\n",
       "| Responden 26 | 3            | 4            | 2            | 4            | 3            | 3            | 3            | 5            | 4            |\n",
       "| Responden 27 | 4            | 3            | 5            | 4            | 5            | 3            | 4            | 5            | 5            |\n",
       "| Responden 28 | 3            | 4            | 4            | 4            | 3            | 3            | 3            | 5            | 4            |\n",
       "| Responden 29 | 4            | 4            | 3            | 5            | 4            | 4            | 2            | 5            | 2            |\n",
       "| Responden 30 | 3            | 3            | 3            | 4            | 3            | 4            | 3            | 4            | 4            |\n",
       "| ... | ... | ... | ... | ... | ... | ... | ... | ... | ... |\n",
       "| Responden 472 | 4             | 4             | 5             | 4             | 4             | 4             | 3             | 4             | 4             |\n",
       "| Responden 473 | 4             | 3             | 4             | 4             | 2             | 4             | 3             | 5             | 3             |\n",
       "| Responden 474 | 4             | 5             | 3             | 4             | 4             | 5             | 4             | 5             | 4             |\n",
       "| Responden 475 | 4             | 2             | 4             | 4             | 4             | 4             | 3             | 5             | 2             |\n",
       "| Responden 476 | 4             | 2             | 4             | 4             | 4             | 2             | 2             | 4             | 2             |\n",
       "| Responden 477 | 3             | 4             | 3             | 4             | 3             | 2             | 2             | 5             | 4             |\n",
       "| Responden 478 | 4             | 4             | 5             | 3             | 4             | 4             | 2             | 5             | 4             |\n",
       "| Responden 479 | 4             | 3             | 4             | 5             | 3             | 4             | 4             | 5             | 3             |\n",
       "| Responden 480 | 4             | 5             | 3             | 4             | 5             | 4             | 2             | 5             | 3             |\n",
       "| Responden 481 | 4             | 5             | 3             | 2             | 5             | 4             | 2             | 4             | 4             |\n",
       "| Responden 482 | 4             | 5             | 4             | 2             | 3             | 5             | 3             | 2             | 4             |\n",
       "| Responden 483 | 4             | 3             | 4             | 4             | 4             | 4             | 2             | 5             | 2             |\n",
       "| Responden 484 | 4             | 3             | 5             | 4             | 2             | 2             | 1             | 4             | 3             |\n",
       "| Responden 485 | 4             | 3             | 4             | 2             | 5             | 4             | 3             | 5             | 3             |\n",
       "| Responden 486 | 4             | 5             | 4             | 4             | 3             | 3             | 4             | 5             | 3             |\n",
       "| Responden 487 | 4             | 3             | 4             | 3             | 2             | 4             | 2             | 5             | 2             |\n",
       "| Responden 488 | 4             | 5             | 3             | 4             | 4             | 3             | 3             | 5             | 4             |\n",
       "| Responden 489 | 5             | 4             | 2             | 4             | 2             | 4             | 2             | 3             | 4             |\n",
       "| Responden 490 | 4             | 5             | 5             | 5             | 4             | 4             | 4             | 5             | 4             |\n",
       "| Responden 491 | 4             | 5             | 3             | 4             | 2             | 3             | 3             | 5             | 5             |\n",
       "| Responden 492 | 4             | 4             | 2             | 4             | 2             | 4             | 3             | 4             | 5             |\n",
       "| Responden 493 | 4             | 3             | 4             | 3             | 4             | 4             | 2             | 5             | 3             |\n",
       "| Responden 494 | 2             | 2             | 2             | 2             | 2             | 5             | 2             | 5             | 2             |\n",
       "| Responden 495 | 4             | 3             | 4             | 2             | 4             | 2             | 2             | 4             | 4             |\n",
       "| Responden 496 | 4             | 4             | 4             | 4             | 4             | 4             | 3             | 4             | 5             |\n",
       "| Responden 497 | 4             | 4             | 3             | 4             | 3             | 3             | 2             | 4             | 3             |\n",
       "| Responden 498 | 3             | 4             | 2             | 4             | 3             | 4             | 2             | 4             | 3             |\n",
       "| Responden 499 | 4             | 4             | 5             | 4             | 2             | 2             | 3             | 4             | 4             |\n",
       "| Responden 500 | 4             | 4             | 5             | 3             | 5             | 4             | 3             | 5             | 4             |\n",
       "| Responden 501 | 4             | 4             | 4             | 4             | 4             | 4             | 4             | 4             | 4             |\n",
       "\n"
      ],
      "text/plain": [
       "    RESPONDEN.    Q1  Q2  Q3  Q4  Q5  Q6  Q7  Q8  Q9 \n",
       "1   Responden 1   4   4   3   4   3   3   3   5   4  \n",
       "2   Responden 2   5   4   5   4   4   5   5   5   4  \n",
       "3   Responden 3   4   3   4   4   3   5   2   4   4  \n",
       "4   Responden 4   4   4   4   4   4   3   3   5   4  \n",
       "5   Responden 5   5   4   4   4   4   3   3   4   3  \n",
       "6   Responden 6   4   3   4   4   4   4   3   4   4  \n",
       "7   Responden 7   3   5   4   4   3   4   3   3   3  \n",
       "8   Responden 8   4   4   4   4   4   5   2   5   4  \n",
       "9   Responden 9   4   5   4   4   4   4   4   4   5  \n",
       "10  Responden 10  5   2   3   4   4   3   3   4   3  \n",
       "11  Responden 11  3   4   3   3   3   4   4   4   3  \n",
       "12  Responden 12  5   4   3   5   5   4   2   5   3  \n",
       "13  Responden 13  4   4   4   4   4   4   2   4   4  \n",
       "14  Responden 14  4   4   4   4   4   4   2   4   4  \n",
       "15  Responden 15  4   2   3   4   4   2   2   4   5  \n",
       "16  Responden 16  4   3   3   5   4   4   3   4   2  \n",
       "17  Responden 17  5   2   4   4   4   4   2   5   4  \n",
       "18  Responden 18  3   4   3   4   4   3   4   5   4  \n",
       "19  Responden 19  4   4   4   4   4   2   2   4   4  \n",
       "20  Responden 20  4   5   4   4   3   2   2   4   3  \n",
       "21  Responden 21  2   4   4   4   3   3   2   4   4  \n",
       "22  Responden 22  5   4   4   4   4   4   4   5   5  \n",
       "23  Responden 23  4   3   3   4   3   3   3   4   3  \n",
       "24  Responden 24  4   3   3   4   4   3   3   4   4  \n",
       "25  Responden 25  4   4   4   4   4   3   1   4   4  \n",
       "26  Responden 26  3   4   2   4   3   3   3   5   4  \n",
       "27  Responden 27  4   3   5   4   5   3   4   5   5  \n",
       "28  Responden 28  3   4   4   4   3   3   3   5   4  \n",
       "29  Responden 29  4   4   3   5   4   4   2   5   2  \n",
       "30  Responden 30  3   3   3   4   3   4   3   4   4  \n",
       "... ...           ... ... ... ... ... ... ... ... ...\n",
       "472 Responden 472 4   4   5   4   4   4   3   4   4  \n",
       "473 Responden 473 4   3   4   4   2   4   3   5   3  \n",
       "474 Responden 474 4   5   3   4   4   5   4   5   4  \n",
       "475 Responden 475 4   2   4   4   4   4   3   5   2  \n",
       "476 Responden 476 4   2   4   4   4   2   2   4   2  \n",
       "477 Responden 477 3   4   3   4   3   2   2   5   4  \n",
       "478 Responden 478 4   4   5   3   4   4   2   5   4  \n",
       "479 Responden 479 4   3   4   5   3   4   4   5   3  \n",
       "480 Responden 480 4   5   3   4   5   4   2   5   3  \n",
       "481 Responden 481 4   5   3   2   5   4   2   4   4  \n",
       "482 Responden 482 4   5   4   2   3   5   3   2   4  \n",
       "483 Responden 483 4   3   4   4   4   4   2   5   2  \n",
       "484 Responden 484 4   3   5   4   2   2   1   4   3  \n",
       "485 Responden 485 4   3   4   2   5   4   3   5   3  \n",
       "486 Responden 486 4   5   4   4   3   3   4   5   3  \n",
       "487 Responden 487 4   3   4   3   2   4   2   5   2  \n",
       "488 Responden 488 4   5   3   4   4   3   3   5   4  \n",
       "489 Responden 489 5   4   2   4   2   4   2   3   4  \n",
       "490 Responden 490 4   5   5   5   4   4   4   5   4  \n",
       "491 Responden 491 4   5   3   4   2   3   3   5   5  \n",
       "492 Responden 492 4   4   2   4   2   4   3   4   5  \n",
       "493 Responden 493 4   3   4   3   4   4   2   5   3  \n",
       "494 Responden 494 2   2   2   2   2   5   2   5   2  \n",
       "495 Responden 495 4   3   4   2   4   2   2   4   4  \n",
       "496 Responden 496 4   4   4   4   4   4   3   4   5  \n",
       "497 Responden 497 4   4   3   4   3   3   2   4   3  \n",
       "498 Responden 498 3   4   2   4   3   4   2   4   3  \n",
       "499 Responden 499 4   4   5   4   2   2   3   4   4  \n",
       "500 Responden 500 4   4   5   3   5   4   3   5   4  \n",
       "501 Responden 501 4   4   4   4   4   4   4   4   4  "
      ]
     },
     "metadata": {},
     "output_type": "display_data"
    }
   ],
   "source": [
    "mydata"
   ]
  },
  {
   "cell_type": "code",
   "execution_count": 51,
   "metadata": {},
   "outputs": [
    {
     "name": "stderr",
     "output_type": "stream",
     "text": [
      "The following objects are masked from mydata (pos = 3):\n",
      "\n",
      "    Q1, Q2, Q3, Q4, Q5, Q6, Q7, Q8, Q9, RESPONDEN.\n",
      "\n"
     ]
    }
   ],
   "source": [
    "attach(mydata)"
   ]
  },
  {
   "cell_type": "code",
   "execution_count": 54,
   "metadata": {},
   "outputs": [],
   "source": [
    "# Definisikan variabel\n",
    "x <- cbind(Q1,Q2,Q3,Q4,Q5,Q6,Q7,Q8,Q9)"
   ]
  },
  {
   "cell_type": "code",
   "execution_count": 55,
   "metadata": {},
   "outputs": [
    {
     "data": {
      "text/plain": [
       "       Q1              Q2              Q3              Q4       \n",
       " Min.   :2.000   Min.   :1.000   Min.   :1.000   Min.   :1.000  \n",
       " 1st Qu.:4.000   1st Qu.:3.000   1st Qu.:3.000   1st Qu.:3.000  \n",
       " Median :4.000   Median :4.000   Median :4.000   Median :4.000  \n",
       " Mean   :4.004   Mean   :3.609   Mean   :3.657   Mean   :3.796  \n",
       " 3rd Qu.:4.000   3rd Qu.:4.000   3rd Qu.:4.000   3rd Qu.:4.000  \n",
       " Max.   :5.000   Max.   :5.000   Max.   :5.000   Max.   :5.000  \n",
       "       Q5              Q6              Q7              Q8       \n",
       " Min.   :1.000   Min.   :1.000   Min.   :1.000   Min.   :1.000  \n",
       " 1st Qu.:3.000   1st Qu.:3.000   1st Qu.:2.000   1st Qu.:4.000  \n",
       " Median :4.000   Median :4.000   Median :3.000   Median :5.000  \n",
       " Mean   :3.517   Mean   :3.535   Mean   :2.745   Mean   :4.391  \n",
       " 3rd Qu.:4.000   3rd Qu.:4.000   3rd Qu.:3.000   3rd Qu.:5.000  \n",
       " Max.   :5.000   Max.   :5.000   Max.   :5.000   Max.   :5.000  \n",
       "       Q9       \n",
       " Min.   :1.000  \n",
       " 1st Qu.:3.000  \n",
       " Median :4.000  \n",
       " Mean   :3.715  \n",
       " 3rd Qu.:4.000  \n",
       " Max.   :5.000  "
      ]
     },
     "metadata": {},
     "output_type": "display_data"
    },
    {
     "data": {
      "text/html": [
       "<table>\n",
       "<thead><tr><th></th><th scope=col>Q1</th><th scope=col>Q2</th><th scope=col>Q3</th><th scope=col>Q4</th><th scope=col>Q5</th><th scope=col>Q6</th><th scope=col>Q7</th><th scope=col>Q8</th><th scope=col>Q9</th></tr></thead>\n",
       "<tbody>\n",
       "\t<tr><th scope=row>Q1</th><td>1.00000000 </td><td> 0.07251028</td><td>0.22534344 </td><td> 0.06460712</td><td>0.18621904 </td><td> 0.12656034</td><td>0.06880310 </td><td> 0.01763381</td><td>0.16391533 </td></tr>\n",
       "\t<tr><th scope=row>Q2</th><td>0.07251028 </td><td> 1.00000000</td><td>0.11692653 </td><td> 0.09124427</td><td>0.11739971 </td><td> 0.02362159</td><td>0.14832860 </td><td>-0.02939126</td><td>0.11544417 </td></tr>\n",
       "\t<tr><th scope=row>Q3</th><td>0.22534344 </td><td> 0.11692653</td><td>1.00000000 </td><td> 0.09143580</td><td>0.23410965 </td><td> 0.04054317</td><td>0.09662420 </td><td> 0.01130075</td><td>0.20063786 </td></tr>\n",
       "\t<tr><th scope=row>Q4</th><td>0.06460712 </td><td> 0.09124427</td><td>0.09143580 </td><td> 1.00000000</td><td>0.28915370 </td><td>-0.02919907</td><td>0.06644611 </td><td> 0.04285136</td><td>0.05941899 </td></tr>\n",
       "\t<tr><th scope=row>Q5</th><td>0.18621904 </td><td> 0.11739971</td><td>0.23410965 </td><td> 0.28915370</td><td>1.00000000 </td><td> 0.06723034</td><td>0.07963594 </td><td> 0.02271116</td><td>0.16510083 </td></tr>\n",
       "\t<tr><th scope=row>Q6</th><td>0.12656034 </td><td> 0.02362159</td><td>0.04054317 </td><td>-0.02919907</td><td>0.06723034 </td><td> 1.00000000</td><td>0.20094023 </td><td> 0.06666638</td><td>0.08080320 </td></tr>\n",
       "\t<tr><th scope=row>Q7</th><td>0.06880310 </td><td> 0.14832860</td><td>0.09662420 </td><td> 0.06644611</td><td>0.07963594 </td><td> 0.20094023</td><td>1.00000000 </td><td> 0.01223268</td><td>0.08497112 </td></tr>\n",
       "\t<tr><th scope=row>Q8</th><td>0.01763381 </td><td>-0.02939126</td><td>0.01130075 </td><td> 0.04285136</td><td>0.02271116 </td><td> 0.06666638</td><td>0.01223268 </td><td> 1.00000000</td><td>0.07049647 </td></tr>\n",
       "\t<tr><th scope=row>Q9</th><td>0.16391533 </td><td> 0.11544417</td><td>0.20063786 </td><td> 0.05941899</td><td>0.16510083 </td><td> 0.08080320</td><td>0.08497112 </td><td> 0.07049647</td><td>1.00000000 </td></tr>\n",
       "</tbody>\n",
       "</table>\n"
      ],
      "text/latex": [
       "\\begin{tabular}{r|lllllllll}\n",
       "  & Q1 & Q2 & Q3 & Q4 & Q5 & Q6 & Q7 & Q8 & Q9\\\\\n",
       "\\hline\n",
       "\tQ1 & 1.00000000  &  0.07251028 & 0.22534344  &  0.06460712 & 0.18621904  &  0.12656034 & 0.06880310  &  0.01763381 & 0.16391533 \\\\\n",
       "\tQ2 & 0.07251028  &  1.00000000 & 0.11692653  &  0.09124427 & 0.11739971  &  0.02362159 & 0.14832860  & -0.02939126 & 0.11544417 \\\\\n",
       "\tQ3 & 0.22534344  &  0.11692653 & 1.00000000  &  0.09143580 & 0.23410965  &  0.04054317 & 0.09662420  &  0.01130075 & 0.20063786 \\\\\n",
       "\tQ4 & 0.06460712  &  0.09124427 & 0.09143580  &  1.00000000 & 0.28915370  & -0.02919907 & 0.06644611  &  0.04285136 & 0.05941899 \\\\\n",
       "\tQ5 & 0.18621904  &  0.11739971 & 0.23410965  &  0.28915370 & 1.00000000  &  0.06723034 & 0.07963594  &  0.02271116 & 0.16510083 \\\\\n",
       "\tQ6 & 0.12656034  &  0.02362159 & 0.04054317  & -0.02919907 & 0.06723034  &  1.00000000 & 0.20094023  &  0.06666638 & 0.08080320 \\\\\n",
       "\tQ7 & 0.06880310  &  0.14832860 & 0.09662420  &  0.06644611 & 0.07963594  &  0.20094023 & 1.00000000  &  0.01223268 & 0.08497112 \\\\\n",
       "\tQ8 & 0.01763381  & -0.02939126 & 0.01130075  &  0.04285136 & 0.02271116  &  0.06666638 & 0.01223268  &  1.00000000 & 0.07049647 \\\\\n",
       "\tQ9 & 0.16391533  &  0.11544417 & 0.20063786  &  0.05941899 & 0.16510083  &  0.08080320 & 0.08497112  &  0.07049647 & 1.00000000 \\\\\n",
       "\\end{tabular}\n"
      ],
      "text/markdown": [
       "\n",
       "| <!--/--> | Q1 | Q2 | Q3 | Q4 | Q5 | Q6 | Q7 | Q8 | Q9 |\n",
       "|---|---|---|---|---|---|---|---|---|---|\n",
       "| Q1 | 1.00000000  |  0.07251028 | 0.22534344  |  0.06460712 | 0.18621904  |  0.12656034 | 0.06880310  |  0.01763381 | 0.16391533  |\n",
       "| Q2 | 0.07251028  |  1.00000000 | 0.11692653  |  0.09124427 | 0.11739971  |  0.02362159 | 0.14832860  | -0.02939126 | 0.11544417  |\n",
       "| Q3 | 0.22534344  |  0.11692653 | 1.00000000  |  0.09143580 | 0.23410965  |  0.04054317 | 0.09662420  |  0.01130075 | 0.20063786  |\n",
       "| Q4 | 0.06460712  |  0.09124427 | 0.09143580  |  1.00000000 | 0.28915370  | -0.02919907 | 0.06644611  |  0.04285136 | 0.05941899  |\n",
       "| Q5 | 0.18621904  |  0.11739971 | 0.23410965  |  0.28915370 | 1.00000000  |  0.06723034 | 0.07963594  |  0.02271116 | 0.16510083  |\n",
       "| Q6 | 0.12656034  |  0.02362159 | 0.04054317  | -0.02919907 | 0.06723034  |  1.00000000 | 0.20094023  |  0.06666638 | 0.08080320  |\n",
       "| Q7 | 0.06880310  |  0.14832860 | 0.09662420  |  0.06644611 | 0.07963594  |  0.20094023 | 1.00000000  |  0.01223268 | 0.08497112  |\n",
       "| Q8 | 0.01763381  | -0.02939126 | 0.01130075  |  0.04285136 | 0.02271116  |  0.06666638 | 0.01223268  |  1.00000000 | 0.07049647  |\n",
       "| Q9 | 0.16391533  |  0.11544417 | 0.20063786  |  0.05941899 | 0.16510083  |  0.08080320 | 0.08497112  |  0.07049647 | 1.00000000  |\n",
       "\n"
      ],
      "text/plain": [
       "   Q1         Q2          Q3         Q4          Q5         Q6         \n",
       "Q1 1.00000000  0.07251028 0.22534344  0.06460712 0.18621904  0.12656034\n",
       "Q2 0.07251028  1.00000000 0.11692653  0.09124427 0.11739971  0.02362159\n",
       "Q3 0.22534344  0.11692653 1.00000000  0.09143580 0.23410965  0.04054317\n",
       "Q4 0.06460712  0.09124427 0.09143580  1.00000000 0.28915370 -0.02919907\n",
       "Q5 0.18621904  0.11739971 0.23410965  0.28915370 1.00000000  0.06723034\n",
       "Q6 0.12656034  0.02362159 0.04054317 -0.02919907 0.06723034  1.00000000\n",
       "Q7 0.06880310  0.14832860 0.09662420  0.06644611 0.07963594  0.20094023\n",
       "Q8 0.01763381 -0.02939126 0.01130075  0.04285136 0.02271116  0.06666638\n",
       "Q9 0.16391533  0.11544417 0.20063786  0.05941899 0.16510083  0.08080320\n",
       "   Q7         Q8          Q9        \n",
       "Q1 0.06880310  0.01763381 0.16391533\n",
       "Q2 0.14832860 -0.02939126 0.11544417\n",
       "Q3 0.09662420  0.01130075 0.20063786\n",
       "Q4 0.06644611  0.04285136 0.05941899\n",
       "Q5 0.07963594  0.02271116 0.16510083\n",
       "Q6 0.20094023  0.06666638 0.08080320\n",
       "Q7 1.00000000  0.01223268 0.08497112\n",
       "Q8 0.01223268  1.00000000 0.07049647\n",
       "Q9 0.08497112  0.07049647 1.00000000"
      ]
     },
     "metadata": {},
     "output_type": "display_data"
    }
   ],
   "source": [
    "# Statistik deskriptif\n",
    "summary(x)\n",
    "cor(x)"
   ]
  },
  {
   "cell_type": "code",
   "execution_count": 56,
   "metadata": {},
   "outputs": [],
   "source": [
    "# Principal Component Analysis\n",
    "pca <-princomp(x, score=TRUE, cor=TRUE)"
   ]
  },
  {
   "cell_type": "code",
   "execution_count": 57,
   "metadata": {},
   "outputs": [
    {
     "data": {
      "text/plain": [
       "\n",
       "Loadings:\n",
       "   Comp.1 Comp.2 Comp.3 Comp.4 Comp.5 Comp.6 Comp.7 Comp.8 Comp.9\n",
       "Q1  0.387         0.209  0.397  0.283  0.500  0.201  0.521       \n",
       "Q2  0.289        -0.543        -0.555  0.423  0.312 -0.184       \n",
       "Q3  0.429 -0.104         0.367               -0.635 -0.389 -0.323\n",
       "Q4  0.304 -0.471        -0.532  0.207                0.222 -0.543\n",
       "Q5  0.460 -0.324        -0.156  0.258               -0.318  0.685\n",
       "Q6  0.219  0.646        -0.149  0.365         0.336 -0.432 -0.273\n",
       "Q7  0.284  0.456 -0.397 -0.301        -0.143 -0.480  0.408  0.212\n",
       "Q8         0.162  0.667 -0.474 -0.418  0.308 -0.139              \n",
       "Q9  0.377         0.210  0.245 -0.438 -0.659  0.282  0.202       \n",
       "\n",
       "               Comp.1 Comp.2 Comp.3 Comp.4 Comp.5 Comp.6 Comp.7 Comp.8 Comp.9\n",
       "SS loadings     1.000  1.000  1.000  1.000  1.000  1.000  1.000  1.000  1.000\n",
       "Proportion Var  0.111  0.111  0.111  0.111  0.111  0.111  0.111  0.111  0.111\n",
       "Cumulative Var  0.111  0.222  0.333  0.444  0.556  0.667  0.778  0.889  1.000"
      ]
     },
     "metadata": {},
     "output_type": "display_data"
    }
   ],
   "source": [
    "# Loading of Principal Components\n",
    "loadings(pca)"
   ]
  },
  {
   "cell_type": "code",
   "execution_count": 58,
   "metadata": {},
   "outputs": [
    {
     "data": {
      "image/png": "[encoded data removed]",
      "text/plain": [
       "Plot with title \"pca\""
      ]
     },
     "metadata": {},
     "output_type": "display_data"
    },
    {
     "data": {
      "image/png": "[encoded data removed]",
      "text/plain": [
       "Plot with title \"scree plot\""
      ]
     },
     "metadata": {},
     "output_type": "display_data"
    }
   ],
   "source": [
    "# Scree plot of eigenvalues\n",
    "plot(pca)\n",
    "screeplot(pca, type=\"line\", main=\"scree plot\")"
   ]
  },
  {
   "cell_type": "code",
   "execution_count": 59,
   "metadata": {},
   "outputs": [
    {
     "data": {
      "image/png": "[encoded data removed]",
      "text/plain": [
       "plot without title"
      ]
     },
     "metadata": {},
     "output_type": "display_data"
    }
   ],
   "source": [
    "# Biplot of score variables\n",
    "biplot(pca)"
   ]
  },
  {
   "cell_type": "code",
   "execution_count": 60,
   "metadata": {},
   "outputs": [
    {
     "data": {
      "text/html": [
       "<table>\n",
       "<thead><tr><th scope=col>Comp.1</th><th scope=col>Comp.2</th><th scope=col>Comp.3</th><th scope=col>Comp.4</th><th scope=col>Comp.5</th><th scope=col>Comp.6</th><th scope=col>Comp.7</th><th scope=col>Comp.8</th><th scope=col>Comp.9</th></tr></thead>\n",
       "<tbody>\n",
       "\t<tr><td>-0.313470377</td><td> 0.06281342 </td><td> 0.151988246</td><td>-0.65748091 </td><td>-1.02672469 </td><td> 0.1796720  </td><td> 0.2492181  </td><td> 0.94499363 </td><td>-0.044099273</td></tr>\n",
       "\t<tr><td> 3.061324084</td><td> 2.00492801 </td><td>-0.005674514</td><td>-0.32410594 </td><td> 0.51780267 </td><td> 0.5453926  </td><td>-1.1935701  </td><td> 0.26938366 </td><td>-0.123512492</td></tr>\n",
       "\t<tr><td> 0.004436682</td><td> 0.70869539 </td><td> 0.477547651</td><td> 0.48929984 </td><td> 0.88046630 </td><td>-0.5686223  </td><td> 0.6191193  </td><td>-0.78051607 </td><td>-1.392100526</td></tr>\n",
       "\t<tr><td> 0.799111771</td><td>-0.47182505 </td><td> 0.309722947</td><td>-0.38951899 </td><td>-0.76034609 </td><td> 0.1364513  </td><td>-0.4254401  </td><td> 0.06041650 </td><td> 0.403604854</td></tr>\n",
       "\t<tr><td> 0.813895646</td><td>-0.66321789 </td><td>-0.542153067</td><td> 0.56532674 </td><td> 0.78461723 </td><td> 1.2907015  </td><td>-0.2740376  </td><td> 0.62279321 </td><td> 0.398438050</td></tr>\n",
       "\t<tr><td> 0.637259757</td><td> 0.06110899 </td><td> 0.030829924</td><td> 0.13573699 </td><td> 0.81120907 </td><td>-0.7864839  </td><td>-0.1722841  </td><td>-0.23057371 </td><td> 0.008511711</td></tr>\n",
       "\t<tr><td>-0.504801001</td><td> 0.02067516 </td><td>-2.651388096</td><td>-0.02525127 </td><td> 0.01039569 </td><td>-0.1598369  </td><td>-0.1108054  </td><td>-1.24839846 </td><td>-1.005110709</td></tr>\n",
       "\t<tr><td> 0.991626970</td><td> 0.51719528 </td><td> 0.883479038</td><td>-0.40135235 </td><td> 0.05099758 </td><td> 0.1740042  </td><td> 0.8767598  </td><td>-1.38334428 </td><td>-0.458192679</td></tr>\n",
       "\t<tr><td> 2.015921897</td><td> 0.62709888 </td><td>-1.279025720</td><td> 0.01277933 </td><td>-0.85586240 </td><td>-0.8728046  </td><td> 0.2978220  </td><td> 0.08364139 </td><td> 0.106193359</td></tr>\n",
       "</tbody>\n",
       "</table>\n"
      ],
      "text/latex": [
       "\\begin{tabular}{lllllllll}\n",
       " Comp.1 & Comp.2 & Comp.3 & Comp.4 & Comp.5 & Comp.6 & Comp.7 & Comp.8 & Comp.9\\\\\n",
       "\\hline\n",
       "\t -0.313470377 &  0.06281342  &  0.151988246 & -0.65748091  & -1.02672469  &  0.1796720   &  0.2492181   &  0.94499363  & -0.044099273\\\\\n",
       "\t  3.061324084 &  2.00492801  & -0.005674514 & -0.32410594  &  0.51780267  &  0.5453926   & -1.1935701   &  0.26938366  & -0.123512492\\\\\n",
       "\t  0.004436682 &  0.70869539  &  0.477547651 &  0.48929984  &  0.88046630  & -0.5686223   &  0.6191193   & -0.78051607  & -1.392100526\\\\\n",
       "\t  0.799111771 & -0.47182505  &  0.309722947 & -0.38951899  & -0.76034609  &  0.1364513   & -0.4254401   &  0.06041650  &  0.403604854\\\\\n",
       "\t  0.813895646 & -0.66321789  & -0.542153067 &  0.56532674  &  0.78461723  &  1.2907015   & -0.2740376   &  0.62279321  &  0.398438050\\\\\n",
       "\t  0.637259757 &  0.06110899  &  0.030829924 &  0.13573699  &  0.81120907  & -0.7864839   & -0.1722841   & -0.23057371  &  0.008511711\\\\\n",
       "\t -0.504801001 &  0.02067516  & -2.651388096 & -0.02525127  &  0.01039569  & -0.1598369   & -0.1108054   & -1.24839846  & -1.005110709\\\\\n",
       "\t  0.991626970 &  0.51719528  &  0.883479038 & -0.40135235  &  0.05099758  &  0.1740042   &  0.8767598   & -1.38334428  & -0.458192679\\\\\n",
       "\t  2.015921897 &  0.62709888  & -1.279025720 &  0.01277933  & -0.85586240  & -0.8728046   &  0.2978220   &  0.08364139  &  0.106193359\\\\\n",
       "\\end{tabular}\n"
      ],
      "text/markdown": [
       "\n",
       "| Comp.1 | Comp.2 | Comp.3 | Comp.4 | Comp.5 | Comp.6 | Comp.7 | Comp.8 | Comp.9 |\n",
       "|---|---|---|---|---|---|---|---|---|\n",
       "| -0.313470377 |  0.06281342  |  0.151988246 | -0.65748091  | -1.02672469  |  0.1796720   |  0.2492181   |  0.94499363  | -0.044099273 |\n",
       "|  3.061324084 |  2.00492801  | -0.005674514 | -0.32410594  |  0.51780267  |  0.5453926   | -1.1935701   |  0.26938366  | -0.123512492 |\n",
       "|  0.004436682 |  0.70869539  |  0.477547651 |  0.48929984  |  0.88046630  | -0.5686223   |  0.6191193   | -0.78051607  | -1.392100526 |\n",
       "|  0.799111771 | -0.47182505  |  0.309722947 | -0.38951899  | -0.76034609  |  0.1364513   | -0.4254401   |  0.06041650  |  0.403604854 |\n",
       "|  0.813895646 | -0.66321789  | -0.542153067 |  0.56532674  |  0.78461723  |  1.2907015   | -0.2740376   |  0.62279321  |  0.398438050 |\n",
       "|  0.637259757 |  0.06110899  |  0.030829924 |  0.13573699  |  0.81120907  | -0.7864839   | -0.1722841   | -0.23057371  |  0.008511711 |\n",
       "| -0.504801001 |  0.02067516  | -2.651388096 | -0.02525127  |  0.01039569  | -0.1598369   | -0.1108054   | -1.24839846  | -1.005110709 |\n",
       "|  0.991626970 |  0.51719528  |  0.883479038 | -0.40135235  |  0.05099758  |  0.1740042   |  0.8767598   | -1.38334428  | -0.458192679 |\n",
       "|  2.015921897 |  0.62709888  | -1.279025720 |  0.01277933  | -0.85586240  | -0.8728046   |  0.2978220   |  0.08364139  |  0.106193359 |\n",
       "\n"
      ],
      "text/plain": [
       "      Comp.1       Comp.2      Comp.3       Comp.4      Comp.5      Comp.6    \n",
       " [1,] -0.313470377  0.06281342  0.151988246 -0.65748091 -1.02672469  0.1796720\n",
       " [2,]  3.061324084  2.00492801 -0.005674514 -0.32410594  0.51780267  0.5453926\n",
       " [3,]  0.004436682  0.70869539  0.477547651  0.48929984  0.88046630 -0.5686223\n",
       " [4,]  0.799111771 -0.47182505  0.309722947 -0.38951899 -0.76034609  0.1364513\n",
       " [5,]  0.813895646 -0.66321789 -0.542153067  0.56532674  0.78461723  1.2907015\n",
       " [6,]  0.637259757  0.06110899  0.030829924  0.13573699  0.81120907 -0.7864839\n",
       " [7,] -0.504801001  0.02067516 -2.651388096 -0.02525127  0.01039569 -0.1598369\n",
       " [8,]  0.991626970  0.51719528  0.883479038 -0.40135235  0.05099758  0.1740042\n",
       " [9,]  2.015921897  0.62709888 -1.279025720  0.01277933 -0.85586240 -0.8728046\n",
       "      Comp.7     Comp.8      Comp.9      \n",
       " [1,]  0.2492181  0.94499363 -0.044099273\n",
       " [2,] -1.1935701  0.26938366 -0.123512492\n",
       " [3,]  0.6191193 -0.78051607 -1.392100526\n",
       " [4,] -0.4254401  0.06041650  0.403604854\n",
       " [5,] -0.2740376  0.62279321  0.398438050\n",
       " [6,] -0.1722841 -0.23057371  0.008511711\n",
       " [7,] -0.1108054 -1.24839846 -1.005110709\n",
       " [8,]  0.8767598 -1.38334428 -0.458192679\n",
       " [9,]  0.2978220  0.08364139  0.106193359"
      ]
     },
     "metadata": {},
     "output_type": "display_data"
    }
   ],
   "source": [
    "# Scores of the components\n",
    "pca$scores[1:9,]"
   ]
  }
 ],
 "metadata": {
  "kernelspec": {
   "display_name": "R",
   "language": "R",
   "name": "ir"
  },
  "language_info": {
   "codemirror_mode": "r",
   "file_extension": ".r",
   "mimetype": "text/x-r-source",
   "name": "R",
   "pygments_lexer": "r",
   "version": "3.6.1"
  }
 },
 "nbformat": 4,
 "nbformat_minor": 4
}
